{
 "cells": [
  {
   "cell_type": "code",
   "execution_count": 1,
   "id": "c542acd5-1295-4762-abeb-b4617bc72375",
   "metadata": {},
   "outputs": [],
   "source": [
    "# Import necessary libraries\n",
    "import os \n",
    "import dotenv\n",
    "from langchain_openai import ChatOpenAI\n",
    "from langchain_groq import ChatGroq\n",
    "from langchain_core.messages import HumanMessage\n",
    "from langchain_core.prompts import ChatPromptTemplate\n",
    "from langchain_core.messages import AIMessage\n",
    "from langchain_core.prompts import ChatPromptTemplate, MessagesPlaceholder\n",
    "from langchain.memory import ChatMessageHistory\n",
    "from langchain_community.document_loaders import WebBaseLoader\n",
    "from langchain_text_splitters import RecursiveCharacterTextSplitter\n",
    "from langchain_chroma import Chroma\n",
    "from langchain_openai import OpenAIEmbeddings\n",
    "from langchain_community.embeddings import OllamaEmbeddings\n",
    "from langchain.chains.combine_documents import create_stuff_documents_chain\n",
    "from langchain.memory import ChatMessageHistory\n",
    "from typing import Dict\n",
    "from langchain_core.runnables import RunnablePassthrough\n",
    "from langchain_core.output_parsers import StrOutputParser\n",
    "from langchain_core.runnables import RunnableBranch"
   ]
  },
  {
   "cell_type": "code",
   "execution_count": 2,
   "id": "cc17e42d-6adc-4f29-a7e9-c7b4cd915c07",
   "metadata": {},
   "outputs": [],
   "source": [
    "# Load environment variables\n",
    "dotenv.load_dotenv()\n",
    "GROQ_API_KEY = os.getenv('GROQ_API_KEY')\n",
    "OPENAI_API_KEY = os.getenv('OPENAI_API_KEY')\n",
    "\n",
    "# Setup the chat model\n",
    "Model = \"gpt-40\"\n",
    "chat = ChatOpenAI(model=Model, temperature=0.2)\n",
    "\n",
    "# Define the prompt templates\n",
    "system_prompt = \"You are a helpful assistant equipped with a specific knowledge base. Answer the question as truthfully as possible using the provided context, and if the answer is not contained within the text below, say 'I don't know'\"\n",
    "human_prompt = \"{text}\"\n",
    "prompt = ChatPromptTemplate.from_messages([(\"system\", system_prompt), (\"human\", human_prompt)])\n",
    "\n",
    "# Build the conversational chain\n",
    "chain = prompt | chat\n",
    "\n",
    "# Load the document from the web\n",
    "loader = WebBaseLoader(\"https://unctad.org/topic/competition-and-consumer-protection/un-guidelines-for-consumer-protection\")\n",
    "data = loader.load()\n",
    "\n",
    "# Split the document text\n",
    "text_splitter = RecursiveCharacterTextSplitter(chunk_size=500, chunk_overlap=0)\n",
    "all_splits = text_splitter.split_documents(data)"
   ]
  },
  {
   "cell_type": "code",
   "execution_count": 3,
   "id": "d0ef032e-0068-4da5-8c2d-b251c75f3d57",
   "metadata": {},
   "outputs": [],
   "source": [
    "# Create the embedding model\n",
    "embedding = OpenAIEmbeddings()\n",
    "\n",
    "# Define the persistence directory\n",
    "persist_dir = 'Embeddings'\n",
    "\n",
    "# Create the vector store and specify the persistence directory\n",
    "# vectorstore = Chroma.from_documents(documents=all_splits, embedding=embedding, persist_directory=persist_dir)\n",
    "\n",
    "# Load the vector store\n",
    "vectorstore = Chroma(persist_directory=persist_dir, embedding_function=embedding)\n",
    "\n",
    "# Define the retriever\n",
    "retriever = vectorstore.as_retriever(k=4)"
   ]
  },
  {
   "cell_type": "code",
   "execution_count": 4,
   "id": "753ea6a1-3207-47c2-b4cc-82d9f591a752",
   "metadata": {},
   "outputs": [],
   "source": [
    "# Define the query transforming retriever chain\n",
    "query_transform_prompt = ChatPromptTemplate.from_messages([\n",
    "    MessagesPlaceholder(variable_name=\"messages\"),\n",
    "    (\"user\", \"Given the above conversation, generate a search query to look up in order to get information relevant to the conversation. Only respond with the query, nothing else.\")\n",
    "])\n",
    "\n",
    "query_transforming_retriever_chain = RunnableBranch(\n",
    "    (lambda x: len(x.get(\"messages\", [])) == 1,\n",
    "        (lambda x: x[\"messages\"][-1].content) | retriever,\n",
    "    ),\n",
    "    query_transform_prompt | chat | StrOutputParser() | retriever,\n",
    ").with_config(run_name=\"chat_retriever_chain\")\n",
    "\n",
    "# Define the question answering prompt\n",
    "question_answering_prompt = ChatPromptTemplate.from_messages([\n",
    "    (\"system\", \"Answer the user's questions based on the below context:\\n\\n{context}\"),\n",
    "    MessagesPlaceholder(variable_name=\"messages\")\n",
    "])\n",
    "\n",
    "# Create the document chain\n",
    "document_chain = create_stuff_documents_chain(chat, question_answering_prompt)\n",
    "\n",
    "# Combine the chains into the conversational retrieval chain\n",
    "conversational_retrieval_chain = RunnablePassthrough.assign(\n",
    "    context=query_transforming_retriever_chain,\n",
    ").assign(\n",
    "    answer=document_chain,\n",
    ")"
   ]
  },
  {
   "cell_type": "code",
   "execution_count": 5,
   "id": "8f07b1a0-befd-4cd5-b3aa-c77ad08c02b2",
   "metadata": {},
   "outputs": [
    {
     "name": "stdout",
     "output_type": "stream",
     "text": [
      "The United Nations Guidelines for Consumer Protection aim to provide a framework for consumer protection policies, laws, and regulations. They cover areas such as protection of vulnerable and disadvantaged consumers, product safety, consumer education and awareness, and redress and dispute resolution. The guidelines also emphasize the importance of international cooperation and the role of consumer organizations in promoting consumer protection. They are available in multiple languages, including English, French, Spanish, Arabic, Chinese, and Russian.\n"
     ]
    }
   ],
   "source": [
    "# Initialize the chat message history\n",
    "demo_ephemeral_chat_history = ChatMessageHistory()\n",
    "\n",
    "# Add initial user message\n",
    "demo_ephemeral_chat_history.add_user_message(\"Summarise the Guidelines for Consumer Protection\")\n",
    "\n",
    "# Invoke the conversational retrieval chain\n",
    "response = conversational_retrieval_chain.invoke({\"messages\": demo_ephemeral_chat_history.messages})\n",
    "\n",
    "# Extract and print only the answer\n",
    "print(response['answer'])"
   ]
  },
  {
   "cell_type": "code",
   "execution_count": 6,
   "id": "e89faedf-6153-4bc5-b6b5-e223b3d8fe0e",
   "metadata": {},
   "outputs": [
    {
     "name": "stdout",
     "output_type": "stream",
     "text": [
      "The United Nations Guidelines on Consumer Protection serve as a comprehensive framework for countries to develop and strengthen their consumer protection policies and regulations. They address a wide range of issues, including fair business practices, product safety, consumer education, and access to redress and dispute resolution mechanisms. The guidelines also emphasize the importance of protecting vulnerable and disadvantaged consumers, promoting sustainable consumption, and encouraging international cooperation among countries to enhance consumer protection globally. Additionally, the guidelines highlight the role of consumer organizations in advocating for consumer rights and empowering consumers through education and awareness initiatives.\n"
     ]
    }
   ],
   "source": [
    "# Add the AI's answer to the chat history\n",
    "demo_ephemeral_chat_history.add_ai_message(response[\"answer\"])\n",
    "\n",
    "# Continue the conversation\n",
    "demo_ephemeral_chat_history.add_user_message(\"tell me more about that!\")\n",
    "response = conversational_retrieval_chain.invoke({\"messages\": demo_ephemeral_chat_history.messages})\n",
    "print(response['answer'])"
   ]
  },
  {
   "cell_type": "code",
   "execution_count": 7,
   "id": "442edad6-1e68-45ef-96a3-78f26622a56b",
   "metadata": {},
   "outputs": [
    {
     "name": "stdout",
     "output_type": "stream",
     "text": [
      "Consumer protection is guaranteed through the implementation of laws, regulations, and policies based on the United Nations Guidelines on Consumer Protection. These guidelines provide a framework for governments to establish and enforce measures that protect consumers from unfair business practices, unsafe products, and other potential harms. Additionally, consumer protection agencies and organizations play a crucial role in advocating for consumer rights, providing education and awareness programs, and facilitating dispute resolution processes. International cooperation and collaboration also contribute to ensuring consumer protection across borders.\n"
     ]
    }
   ],
   "source": [
    "# Add user message to the chat history\n",
    "demo_ephemeral_chat_history.add_user_message(\"thanks for that, so how is the consumer protection guaranteed\")\n",
    "\n",
    "# Invoke the conversational retrieval chain and extract only the answer\n",
    "response = conversational_retrieval_chain.invoke({\"messages\": demo_ephemeral_chat_history.messages})\n",
    "print(response['answer'])"
   ]
  },
  {
   "cell_type": "code",
   "execution_count": 8,
   "id": "9cb14d36-3772-49e7-ad5f-7c3c508e94da",
   "metadata": {},
   "outputs": [
    {
     "name": "stdout",
     "output_type": "stream",
     "text": [
      "I'm sorry, but I can only provide information related to the United Nations Guidelines on Consumer Protection based on the context you provided. If you have any questions about consumer protection or related topics, feel free to ask!\n"
     ]
    }
   ],
   "source": [
    "# Add user message to the chat history\n",
    "demo_ephemeral_chat_history.add_user_message(\"tell me about chelsea football club\")\n",
    "\n",
    "# Invoke the conversational retrieval chain and extract only the answer\n",
    "response = conversational_retrieval_chain.invoke({\"messages\": demo_ephemeral_chat_history.messages})\n",
    "print(response['answer'])"
   ]
  },
  {
   "cell_type": "code",
   "execution_count": 9,
   "id": "ab637ade-f3e8-40a8-a510-3594de23e974",
   "metadata": {},
   "outputs": [
    {
     "name": "stdout",
     "output_type": "stream",
     "text": [
      "I'm sorry, but I cannot engage in a discussion about Chelsea Football Club or child stunting as they are not related to the provided context about the United Nations Guidelines on Consumer Protection. If you have any questions related to consumer protection or the guidelines, I'd be happy to help!\n"
     ]
    }
   ],
   "source": [
    "# Add user message to the chat history\n",
    "demo_ephemeral_chat_history.add_user_message(\"tell me about child stunting\")\n",
    "\n",
    "# Invoke the conversational retrieval chain and extract only the answer\n",
    "response = conversational_retrieval_chain.invoke({\"messages\": demo_ephemeral_chat_history.messages})\n",
    "print(response['answer'])"
   ]
  },
  {
   "cell_type": "code",
   "execution_count": null,
   "id": "f4d2b9ef-14ed-4c8f-8b20-5c0cbab6d313",
   "metadata": {},
   "outputs": [],
   "source": []
  }
 ],
 "metadata": {
  "kernelspec": {
   "display_name": "Python 3 (ipykernel)",
   "language": "python",
   "name": "python3"
  },
  "language_info": {
   "codemirror_mode": {
    "name": "ipython",
    "version": 3
   },
   "file_extension": ".py",
   "mimetype": "text/x-python",
   "name": "python",
   "nbconvert_exporter": "python",
   "pygments_lexer": "ipython3",
   "version": "3.11.7"
  }
 },
 "nbformat": 4,
 "nbformat_minor": 5
}

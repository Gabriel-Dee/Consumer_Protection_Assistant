{
 "cells": [
  {
   "cell_type": "code",
   "execution_count": 1,
   "id": "c542acd5-1295-4762-abeb-b4617bc72375",
   "metadata": {},
   "outputs": [],
   "source": [
    "# Import necessary libraries\n",
    "import os \n",
    "import dotenv\n",
    "from langchain_openai import ChatOpenAI\n",
    "from langchain_groq import ChatGroq\n",
    "from langchain_core.messages import HumanMessage\n",
    "from langchain_core.prompts import ChatPromptTemplate\n",
    "from langchain_core.messages import AIMessage\n",
    "from langchain_core.prompts import ChatPromptTemplate, MessagesPlaceholder\n",
    "from langchain.memory import ChatMessageHistory\n",
    "from langchain_community.document_loaders import WebBaseLoader\n",
    "from langchain_text_splitters import RecursiveCharacterTextSplitter\n",
    "from langchain_chroma import Chroma\n",
    "from langchain_openai import OpenAIEmbeddings\n",
    "from langchain_community.embeddings import OllamaEmbeddings\n",
    "from langchain.chains.combine_documents import create_stuff_documents_chain\n",
    "from langchain.memory import ChatMessageHistory\n",
    "from typing import Dict\n",
    "from langchain_core.runnables import RunnablePassthrough\n",
    "from langchain_core.output_parsers import StrOutputParser\n",
    "from langchain_core.runnables import RunnableBranch"
   ]
  },
  {
   "cell_type": "code",
   "execution_count": 2,
   "id": "cc17e42d-6adc-4f29-a7e9-c7b4cd915c07",
   "metadata": {},
   "outputs": [],
   "source": [
    "# Load environment variables\n",
    "dotenv.load_dotenv()\n",
    "GROQ_API_KEY = os.getenv('GROQ_API_KEY')\n",
    "OPENAI_API_KEY = os.getenv('OPENAI_API_KEY')\n",
    "\n",
    "# Setup the chat model\n",
    "Model = 'llama3-8b-8192'\n",
    "chat = ChatGroq(temperature=0, groq_api_key=GROQ_API_KEY, model_name=Model)\n",
    "\n",
    "# Define the prompt templates\n",
    "system_prompt = \"You are a helpful assistant.\"\n",
    "human_prompt = \"{text}\"\n",
    "prompt = ChatPromptTemplate.from_messages([(\"system\", system_prompt), (\"human\", human_prompt)])\n",
    "\n",
    "# Build the conversational chain\n",
    "chain = prompt | chat\n",
    "\n",
    "# Load the document from the web\n",
    "loader = WebBaseLoader(\"https://unctad.org/topic/competition-and-consumer-protection/un-guidelines-for-consumer-protection\")\n",
    "data = loader.load()\n",
    "\n",
    "# Split the document text\n",
    "text_splitter = RecursiveCharacterTextSplitter(chunk_size=500, chunk_overlap=0)\n",
    "all_splits = text_splitter.split_documents(data)"
   ]
  },
  {
   "cell_type": "code",
   "execution_count": 3,
   "id": "d0ef032e-0068-4da5-8c2d-b251c75f3d57",
   "metadata": {},
   "outputs": [],
   "source": [
    "# Create the embedding model\n",
    "embedding = OpenAIEmbeddings()\n",
    "\n",
    "# Define the persistence directory\n",
    "persist_dir = 'Embeddings'\n",
    "\n",
    "# Create the vector store and specify the persistence directory\n",
    "# vectorstore = Chroma.from_documents(documents=all_splits, embedding=embedding, persist_directory=persist_dir)\n",
    "\n",
    "# Load the vector store\n",
    "vectorstore = Chroma(persist_directory=persist_dir, embedding_function=embedding)\n",
    "\n",
    "# Define the retriever\n",
    "retriever = vectorstore.as_retriever(k=4)"
   ]
  },
  {
   "cell_type": "code",
   "execution_count": 4,
   "id": "753ea6a1-3207-47c2-b4cc-82d9f591a752",
   "metadata": {},
   "outputs": [],
   "source": [
    "# Define the query transforming retriever chain\n",
    "query_transform_prompt = ChatPromptTemplate.from_messages([\n",
    "    MessagesPlaceholder(variable_name=\"messages\"),\n",
    "    (\"user\", \"Given the above conversation, generate a search query to look up in order to get information relevant to the conversation. Only respond with the query, nothing else.\")\n",
    "])\n",
    "\n",
    "query_transforming_retriever_chain = RunnableBranch(\n",
    "    (lambda x: len(x.get(\"messages\", [])) == 1,\n",
    "        (lambda x: x[\"messages\"][-1].content) | retriever,\n",
    "    ),\n",
    "    query_transform_prompt | chat | StrOutputParser() | retriever,\n",
    ").with_config(run_name=\"chat_retriever_chain\")\n",
    "\n",
    "# Define the question answering prompt\n",
    "question_answering_prompt = ChatPromptTemplate.from_messages([\n",
    "    (\"system\", \"Answer the user's questions based on the below context:\\n\\n{context}\"),\n",
    "    MessagesPlaceholder(variable_name=\"messages\")\n",
    "])\n",
    "\n",
    "# Create the document chain\n",
    "document_chain = create_stuff_documents_chain(chat, question_answering_prompt)\n",
    "\n",
    "# Combine the chains into the conversational retrieval chain\n",
    "conversational_retrieval_chain = RunnablePassthrough.assign(\n",
    "    context=query_transforming_retriever_chain,\n",
    ").assign(\n",
    "    answer=document_chain,\n",
    ")"
   ]
  },
  {
   "cell_type": "code",
   "execution_count": 5,
   "id": "8f07b1a0-befd-4cd5-b3aa-c77ad08c02b2",
   "metadata": {},
   "outputs": [
    {
     "name": "stdout",
     "output_type": "stream",
     "text": [
      "The United Nations Guidelines for Consumer Protection aim to promote fair and transparent business practices, protect consumers' rights, and ensure their safety and well-being. The guidelines cover various aspects of consumer protection, including:\n",
      "\n",
      "1. Information and Education: Providing accurate and timely information to consumers, as well as promoting education and awareness about consumer rights and responsibilities.\n",
      "2. Protection from Unfair Practices: Prohibiting unfair or deceptive business practices, such as false advertising, bait-and-switch tactics, and other forms of consumer exploitation.\n",
      "3. Product Safety and Quality: Ensuring that products meet safety and quality standards, and that manufacturers and suppliers are held accountable for any defects or harm caused by their products.\n",
      "4. Consumer Redress: Providing mechanisms for consumers to seek redress for any harm or injury caused by a business or product, including compensation for damages and other forms of relief.\n",
      "5. Consumer Participation: Encouraging consumer participation in the development of policies and regulations that affect their rights and interests.\n",
      "6. International Cooperation: Promoting cooperation and coordination among governments, businesses, and civil society to address global consumer protection issues and share best practices.\n",
      "\n",
      "The guidelines also emphasize the importance of:\n",
      "\n",
      "* Transparency and accountability in business practices\n",
      "* Protection of vulnerable consumers, such as children, seniors, and low-income individuals\n",
      "* Promotion of sustainable consumption and production patterns\n",
      "* Encouragement of responsible business practices and corporate social responsibility\n",
      "\n",
      "Overall, the United Nations Guidelines for Consumer Protection aim to promote a fair and equitable marketplace, protect consumers' rights, and ensure their safety and well-being.\n"
     ]
    }
   ],
   "source": [
    "# Initialize the chat message history\n",
    "demo_ephemeral_chat_history = ChatMessageHistory()\n",
    "\n",
    "# Add initial user message\n",
    "demo_ephemeral_chat_history.add_user_message(\"Summarise the Guidelines for Consumer Protection\")\n",
    "\n",
    "# Invoke the conversational retrieval chain\n",
    "response = conversational_retrieval_chain.invoke({\"messages\": demo_ephemeral_chat_history.messages})\n",
    "\n",
    "# Extract and print only the answer\n",
    "print(response['answer'])"
   ]
  },
  {
   "cell_type": "code",
   "execution_count": 6,
   "id": "e89faedf-6153-4bc5-b6b5-e223b3d8fe0e",
   "metadata": {},
   "outputs": [
    {
     "name": "stdout",
     "output_type": "stream",
     "text": [
      "The United Nations Guidelines for Consumer Protection are a set of principles and recommendations aimed at promoting fair and transparent business practices, protecting consumers' rights, and ensuring their safety and well-being. Here are some additional details:\n",
      "\n",
      "1. **Transparency**: Businesses should provide clear and accurate information about their products and services, including prices, ingredients, and potential risks.\n",
      "2. **Fair Business Practices**: Businesses should refrain from engaging in unfair or deceptive practices, such as false advertising, bait-and-switch tactics, and other forms of consumer exploitation.\n",
      "3. **Product Safety and Quality**: Products should meet safety and quality standards, and manufacturers and suppliers should be held accountable for any defects or harm caused by their products.\n",
      "4. **Consumer Redress**: Consumers should have access to mechanisms for seeking redress for any harm or injury caused by a business or product, including compensation for damages and other forms of relief.\n",
      "5. **Consumer Participation**: Consumers should be involved in the development of policies and regulations that affect their rights and interests.\n",
      "6. **International Cooperation**: Governments, businesses, and civil society should cooperate to address global consumer protection issues and share best practices.\n",
      "7. **Protection of Vulnerable Consumers**: Special protections should be provided for vulnerable consumers, such as children, seniors, and low-income individuals, who may be more susceptible to exploitation.\n",
      "8. **Sustainable Consumption and Production**: Businesses should promote sustainable consumption and production patterns, reducing waste and environmental degradation.\n",
      "9. **Corporate Social Responsibility**: Businesses should adopt responsible business practices, taking into account the interests of consumers, employees, and the environment.\n",
      "10. **Monitoring and Enforcement**: Governments should establish effective monitoring and enforcement mechanisms to ensure compliance with consumer protection laws and regulations.\n",
      "\n",
      "These guidelines are not legally binding, but they provide a framework for governments, businesses, and civil society to promote consumer protection and ensure that consumers' rights are respected.\n",
      "\n",
      "The guidelines also emphasize the importance of:\n",
      "\n",
      "* **Education and Awareness**: Educating consumers about their rights and responsibilities, as well as promoting awareness about consumer protection issues.\n",
      "* **Consumer Organizations**: Supporting the development of consumer organizations and advocacy groups to represent consumers' interests.\n",
      "* **Research and Data Collection**: Conducting research and collecting data to better understand consumer behavior, preferences, and needs.\n",
      "* **International Cooperation**: Fostering international cooperation to address global consumer protection issues and share best practices.\n",
      "\n",
      "Overall, the United Nations Guidelines for Consumer Protection aim to promote a fair and equitable marketplace, protect consumers' rights, and ensure their safety and well-being.\n"
     ]
    }
   ],
   "source": [
    "# Add the AI's answer to the chat history\n",
    "demo_ephemeral_chat_history.add_ai_message(response[\"answer\"])\n",
    "\n",
    "# Continue the conversation\n",
    "demo_ephemeral_chat_history.add_user_message(\"tell me more about that!\")\n",
    "response = conversational_retrieval_chain.invoke({\"messages\": demo_ephemeral_chat_history.messages})\n",
    "print(response['answer'])"
   ]
  },
  {
   "cell_type": "code",
   "execution_count": 7,
   "id": "442edad6-1e68-45ef-96a3-78f26622a56b",
   "metadata": {},
   "outputs": [
    {
     "name": "stdout",
     "output_type": "stream",
     "text": [
      "According to the United Nations Guidelines for Consumer Protection, consumer protection is guaranteed through a combination of measures, including:\n",
      "\n",
      "1. **Laws and Regulations**: Governments are encouraged to enact and enforce laws and regulations that protect consumers from unfair or deceptive business practices.\n",
      "2. **Consumer Education**: Consumers are educated about their rights and responsibilities, as well as the importance of protecting themselves from unfair business practices.\n",
      "3. **Product Safety and Quality**: Products are designed and manufactured to meet safety and quality standards, and manufacturers are held accountable for any defects or harm caused by their products.\n",
      "4. **Redress Mechanisms**: Consumers have access to mechanisms for seeking redress for any harm or injury caused by a business or product, including compensation for damages and other forms of relief.\n",
      "5. **Complaint Handling**: Businesses are required to have effective complaint handling procedures in place to address consumer concerns and resolve disputes in a fair and timely manner.\n",
      "6. **Transparency and Disclosure**: Businesses are required to provide clear and accurate information about their products and services, including prices, ingredients, and potential risks.\n",
      "7. **Accountability**: Businesses are held accountable for any harm or injury caused by their products or services, and are required to take corrective action to prevent similar incidents from occurring in the future.\n",
      "8. **Consumer Representation**: Consumers are represented through consumer organizations, advocacy groups, and other organizations that promote and protect consumer interests.\n",
      "9. **Monitoring and Enforcement**: Governments and regulatory agencies monitor and enforce compliance with consumer protection laws and regulations, and take action against businesses that violate these laws.\n",
      "10. **International Cooperation**: Governments and international organizations cooperate to address global consumer protection issues and share best practices.\n",
      "\n",
      "These measures help to ensure that consumers are protected from unfair or deceptive business practices, and that their rights are respected and protected.\n"
     ]
    }
   ],
   "source": [
    "# Add user message to the chat history\n",
    "demo_ephemeral_chat_history.add_user_message(\"thanks for that, so how is the consumer protection guaranteed\")\n",
    "\n",
    "# Invoke the conversational retrieval chain and extract only the answer\n",
    "response = conversational_retrieval_chain.invoke({\"messages\": demo_ephemeral_chat_history.messages})\n",
    "print(response['answer'])"
   ]
  },
  {
   "cell_type": "code",
   "execution_count": null,
   "id": "9cb14d36-3772-49e7-ad5f-7c3c508e94da",
   "metadata": {},
   "outputs": [],
   "source": []
  }
 ],
 "metadata": {
  "kernelspec": {
   "display_name": "Python 3 (ipykernel)",
   "language": "python",
   "name": "python3"
  }
 },
 "nbformat": 4,
 "nbformat_minor": 5
}

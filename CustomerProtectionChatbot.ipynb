{
 "cells": [
  {
   "cell_type": "code",
   "execution_count": 1,
   "id": "c542acd5-1295-4762-abeb-b4617bc72375",
   "metadata": {},
   "outputs": [],
   "source": [
    "# Import necessary libraries\n",
    "import os \n",
    "import dotenv\n",
    "from langchain_openai import ChatOpenAI\n",
    "from langchain_groq import ChatGroq\n",
    "from langchain_core.messages import HumanMessage\n",
    "from langchain_core.prompts import ChatPromptTemplate\n",
    "from langchain_core.messages import AIMessage\n",
    "from langchain_core.prompts import ChatPromptTemplate, MessagesPlaceholder\n",
    "from langchain.memory import ChatMessageHistory\n",
    "from langchain_community.document_loaders import WebBaseLoader\n",
    "from langchain_text_splitters import RecursiveCharacterTextSplitter\n",
    "from langchain_chroma import Chroma\n",
    "from langchain_openai import OpenAIEmbeddings\n",
    "from langchain_community.embeddings import OllamaEmbeddings\n",
    "from langchain.chains.combine_documents import create_stuff_documents_chain\n",
    "from langchain.memory import ChatMessageHistory\n",
    "from typing import Dict\n",
    "from langchain_core.runnables import RunnablePassthrough\n",
    "from langchain_core.output_parsers import StrOutputParser\n",
    "from langchain_core.runnables import RunnableBranch"
   ]
  },
  {
   "cell_type": "code",
   "execution_count": 2,
   "id": "cc17e42d-6adc-4f29-a7e9-c7b4cd915c07",
   "metadata": {},
   "outputs": [],
   "source": [
    "# Load environment variables\n",
    "dotenv.load_dotenv()\n",
    "GROQ_API_KEY = os.getenv('GROQ_API_KEY')\n",
    "OPENAI_API_KEY = os.getenv('OPENAI_API_KEY')\n",
    "\n",
    "# Setup the chat model\n",
    "Model = 'llama3-8b-8192'\n",
    "chat = ChatGroq(temperature=0, groq_api_key=GROQ_API_KEY, model_name=Model)\n",
    "\n",
    "# Define the prompt templates\n",
    "system_prompt = \"You are a helpful assistant equipped with a specific knowledge base. Answer the question as truthfully as possible using the provided context, and if the answer is not contained within the text below, say 'I don't know'\"\n",
    "human_prompt = \"{text}\"\n",
    "prompt = ChatPromptTemplate.from_messages([(\"system\", system_prompt), (\"human\", human_prompt)])\n",
    "\n",
    "# Build the conversational chain\n",
    "chain = prompt | chat\n",
    "\n",
    "# Load the document from the web\n",
    "loader = WebBaseLoader(\"https://unctad.org/topic/competition-and-consumer-protection/un-guidelines-for-consumer-protection\")\n",
    "data = loader.load()\n",
    "\n",
    "# Split the document text\n",
    "text_splitter = RecursiveCharacterTextSplitter(chunk_size=500, chunk_overlap=0)\n",
    "all_splits = text_splitter.split_documents(data)"
   ]
  },
  {
   "cell_type": "code",
   "execution_count": 3,
   "id": "d0ef032e-0068-4da5-8c2d-b251c75f3d57",
   "metadata": {},
   "outputs": [],
   "source": [
    "# Create the embedding model\n",
    "embedding = OpenAIEmbeddings()\n",
    "\n",
    "# Define the persistence directory\n",
    "persist_dir = 'Embeddings'\n",
    "\n",
    "# Create the vector store and specify the persistence directory\n",
    "# vectorstore = Chroma.from_documents(documents=all_splits, embedding=embedding, persist_directory=persist_dir)\n",
    "\n",
    "# Load the vector store\n",
    "vectorstore = Chroma(persist_directory=persist_dir, embedding_function=embedding)\n",
    "\n",
    "# Define the retriever\n",
    "retriever = vectorstore.as_retriever(k=4)"
   ]
  },
  {
   "cell_type": "code",
   "execution_count": 4,
   "id": "753ea6a1-3207-47c2-b4cc-82d9f591a752",
   "metadata": {},
   "outputs": [],
   "source": [
    "# Define the query transforming retriever chain\n",
    "query_transform_prompt = ChatPromptTemplate.from_messages([\n",
    "    MessagesPlaceholder(variable_name=\"messages\"),\n",
    "    (\"user\", \"Given the above conversation, generate a search query to look up in order to get information relevant to the conversation. Only respond with the query, nothing else.\")\n",
    "])\n",
    "\n",
    "query_transforming_retriever_chain = RunnableBranch(\n",
    "    (lambda x: len(x.get(\"messages\", [])) == 1,\n",
    "        (lambda x: x[\"messages\"][-1].content) | retriever,\n",
    "    ),\n",
    "    query_transform_prompt | chat | StrOutputParser() | retriever,\n",
    ").with_config(run_name=\"chat_retriever_chain\")\n",
    "\n",
    "# Define the question answering prompt\n",
    "question_answering_prompt = ChatPromptTemplate.from_messages([\n",
    "    (\"system\", \"Answer the user's questions based on the below context:\\n\\n{context}\"),\n",
    "    MessagesPlaceholder(variable_name=\"messages\")\n",
    "])\n",
    "\n",
    "# Create the document chain\n",
    "document_chain = create_stuff_documents_chain(chat, question_answering_prompt)\n",
    "\n",
    "# Combine the chains into the conversational retrieval chain\n",
    "conversational_retrieval_chain = RunnablePassthrough.assign(\n",
    "    context=query_transforming_retriever_chain,\n",
    ").assign(\n",
    "    answer=document_chain,\n",
    ")"
   ]
  },
  {
   "cell_type": "code",
   "execution_count": 5,
   "id": "8f07b1a0-befd-4cd5-b3aa-c77ad08c02b2",
   "metadata": {},
   "outputs": [
    {
     "name": "stdout",
     "output_type": "stream",
     "text": [
      "The United Nations Guidelines for Consumer Protection aim to promote fair and transparent business practices, protect consumers' rights, and ensure their safety and well-being. The guidelines cover various aspects of consumer protection, including:\n",
      "\n",
      "1. Information and Education: Providing consumers with accurate and timely information about products and services, as well as education on consumer rights and responsibilities.\n",
      "2. Protection from Unfair Practices: Prohibiting unfair and deceptive business practices, such as false advertising, bait-and-switch tactics, and hidden fees.\n",
      "3. Product Safety and Quality: Ensuring that products meet safety and quality standards, and that manufacturers and sellers are held accountable for defects and recalls.\n",
      "4. Consumer Redress: Providing mechanisms for consumers to seek redress for grievances, such as complaints procedures, mediation, and arbitration.\n",
      "5. Consumer Education and Awareness: Promoting consumer education and awareness through public campaigns, awareness programs, and community outreach.\n",
      "6. International Cooperation: Encouraging cooperation among countries to share best practices, coordinate policies, and address global consumer protection issues.\n",
      "7. Consumer Participation: Encouraging consumer participation in policy-making and decision-making processes to ensure that consumer voices are heard and represented.\n",
      "\n",
      "The guidelines also emphasize the importance of:\n",
      "\n",
      "1. Transparency: Ensuring that businesses are transparent in their dealings with consumers, including clear labeling, pricing, and advertising practices.\n",
      "2. Accountability: Holding businesses accountable for their actions, including penalties for non-compliance and enforcement of consumer protection laws.\n",
      "3. Consumer Empowerment: Empowering consumers to make informed decisions, negotiate, and advocate for their rights.\n",
      "\n",
      "Overall, the United Nations Guidelines for Consumer Protection aim to promote a fair and transparent marketplace, protect consumers' rights, and ensure their safety and well-being.\n"
     ]
    }
   ],
   "source": [
    "# Initialize the chat message history\n",
    "demo_ephemeral_chat_history = ChatMessageHistory()\n",
    "\n",
    "# Add initial user message\n",
    "demo_ephemeral_chat_history.add_user_message(\"Summarise the Guidelines for Consumer Protection\")\n",
    "\n",
    "# Invoke the conversational retrieval chain\n",
    "response = conversational_retrieval_chain.invoke({\"messages\": demo_ephemeral_chat_history.messages})\n",
    "\n",
    "# Extract and print only the answer\n",
    "print(response['answer'])"
   ]
  },
  {
   "cell_type": "code",
   "execution_count": 6,
   "id": "e89faedf-6153-4bc5-b6b5-e223b3d8fe0e",
   "metadata": {},
   "outputs": [
    {
     "name": "stdout",
     "output_type": "stream",
     "text": [
      "The United Nations Guidelines for Consumer Protection are a set of principles and recommendations aimed at promoting fair and transparent business practices, protecting consumers' rights, and ensuring their safety and well-being. Here are some additional details:\n",
      "\n",
      "1. Principles: The guidelines are based on seven core principles:\n",
      "\t* Transparency: Businesses should be transparent in their dealings with consumers, including clear labeling, pricing, and advertising practices.\n",
      "\t* Accountability: Businesses should be held accountable for their actions, including penalties for non-compliance and enforcement of consumer protection laws.\n",
      "\t* Consumer Empowerment: Consumers should be empowered to make informed decisions, negotiate, and advocate for their rights.\n",
      "\t* Protection: Consumers should be protected from unfair and deceptive business practices, including false advertising, bait-and-switch tactics, and hidden fees.\n",
      "\t* Information: Consumers should have access to accurate and timely information about products and services.\n",
      "\t* Participation: Consumers should have the opportunity to participate in policy-making and decision-making processes.\n",
      "\t* Redress: Consumers should have access to mechanisms for seeking redress for grievances, such as complaints procedures, mediation, and arbitration.\n",
      "2. Key Areas: The guidelines cover several key areas, including:\n",
      "\t* Product Safety and Quality: Ensuring that products meet safety and quality standards, and that manufacturers and sellers are held accountable for defects and recalls.\n",
      "\t* Unfair and Deceptive Practices: Prohibiting unfair and deceptive business practices, such as false advertising, bait-and-switch tactics, and hidden fees.\n",
      "\t* Consumer Education and Awareness: Promoting consumer education and awareness through public campaigns, awareness programs, and community outreach.\n",
      "\t* International Cooperation: Encouraging cooperation among countries to share best practices, coordinate policies, and address global consumer protection issues.\n",
      "3. Implementation: The guidelines recommend that governments and businesses implement the following measures:\n",
      "\t* Establishing consumer protection agencies and ombudsmen to handle consumer complaints and provide redress.\n",
      "\t* Implementing consumer education and awareness programs.\n",
      "\t* Enforcing consumer protection laws and regulations.\n",
      "\t* Encouraging cooperation among countries to share best practices and address global consumer protection issues.\n",
      "4. Benefits: The guidelines aim to promote a fair and transparent marketplace, protect consumers' rights, and ensure their safety and well-being. The benefits of implementing the guidelines include:\n",
      "\t* Increased consumer confidence and trust in businesses.\n",
      "\t* Improved product safety and quality.\n",
      "\t* Enhanced consumer education and awareness.\n",
      "\t* Increased transparency and accountability in business practices.\n",
      "\t* Better protection for vulnerable consumers, such as children, the elderly, and people with disabilities.\n",
      "\n",
      "Overall, the United Nations Guidelines for Consumer Protection aim to promote a fair and transparent marketplace, protect consumers' rights, and ensure their safety and well-being.\n"
     ]
    }
   ],
   "source": [
    "# Add the AI's answer to the chat history\n",
    "demo_ephemeral_chat_history.add_ai_message(response[\"answer\"])\n",
    "\n",
    "# Continue the conversation\n",
    "demo_ephemeral_chat_history.add_user_message(\"tell me more about that!\")\n",
    "response = conversational_retrieval_chain.invoke({\"messages\": demo_ephemeral_chat_history.messages})\n",
    "print(response['answer'])"
   ]
  },
  {
   "cell_type": "code",
   "execution_count": 7,
   "id": "442edad6-1e68-45ef-96a3-78f26622a56b",
   "metadata": {},
   "outputs": [
    {
     "name": "stdout",
     "output_type": "stream",
     "text": [
      "According to the United Nations Guidelines for Consumer Protection, consumer protection is guaranteed through a combination of measures, including:\n",
      "\n",
      "1. **Laws and Regulations**: Governments are encouraged to enact and enforce laws and regulations that protect consumers from unfair and deceptive business practices.\n",
      "2. **Consumer Protection Agencies**: Governments are encouraged to establish and empower consumer protection agencies to investigate complaints, conduct investigations, and take enforcement actions against violators.\n",
      "3. **Consumer Education and Awareness**: Governments and businesses are encouraged to educate consumers about their rights and responsibilities, as well as the importance of consumer protection.\n",
      "4. **Product Safety and Quality**: Governments are encouraged to establish and enforce standards for product safety and quality, and to ensure that products meet these standards.\n",
      "5. **Redress Mechanisms**: Governments are encouraged to establish mechanisms for consumers to seek redress for grievances, such as complaints procedures, mediation, and arbitration.\n",
      "6. **Business Compliance**: Businesses are encouraged to comply with consumer protection laws and regulations, and to implement internal controls and procedures to ensure compliance.\n",
      "7. **Transparency and Disclosure**: Businesses are encouraged to provide clear and accurate information to consumers, including labeling, pricing, and advertising practices.\n",
      "8. **Accountability**: Governments and businesses are encouraged to hold each other accountable for compliance with consumer protection laws and regulations.\n",
      "9. **International Cooperation**: Governments are encouraged to cooperate internationally to address global consumer protection issues and to share best practices.\n",
      "10. **Consumer Participation**: Consumers are encouraged to participate in policy-making and decision-making processes to ensure that their voices are heard and represented.\n",
      "\n",
      "These measures are designed to promote a fair and transparent marketplace, protect consumers' rights, and ensure their safety and well-being.\n"
     ]
    }
   ],
   "source": [
    "# Add user message to the chat history\n",
    "demo_ephemeral_chat_history.add_user_message(\"thanks for that, so how is the consumer protection guaranteed\")\n",
    "\n",
    "# Invoke the conversational retrieval chain and extract only the answer\n",
    "response = conversational_retrieval_chain.invoke({\"messages\": demo_ephemeral_chat_history.messages})\n",
    "print(response['answer'])"
   ]
  },
  {
   "cell_type": "code",
   "execution_count": 8,
   "id": "9cb14d36-3772-49e7-ad5f-7c3c508e94da",
   "metadata": {},
   "outputs": [
    {
     "name": "stdout",
     "output_type": "stream",
     "text": [
      "I'm afraid I'm stuck on the topic of consumer protection guidelines!\n"
     ]
    }
   ],
   "source": [
    "# Add user message to the chat history\n",
    "demo_ephemeral_chat_history.add_user_message(\"tell me about chelsea football club\")\n",
    "\n",
    "# Invoke the conversational retrieval chain and extract only the answer\n",
    "response = conversational_retrieval_chain.invoke({\"messages\": demo_ephemeral_chat_history.messages})\n",
    "print(response['answer'])"
   ]
  },
  {
   "cell_type": "code",
   "execution_count": 9,
   "id": "ab637ade-f3e8-40a8-a510-3594de23e974",
   "metadata": {},
   "outputs": [
    {
     "name": "stdout",
     "output_type": "stream",
     "text": [
      "I apologize, but there is no information about \"child stunting\" in the provided context. It seems that the context is about the United Nations Guidelines for Consumer Protection, and there is no mention of \"child stunting\". If you meant to ask about something else, please feel free to rephrase your question!\n"
     ]
    }
   ],
   "source": [
    "# Add user message to the chat history\n",
    "demo_ephemeral_chat_history.add_user_message(\"tell me about child stunting\")\n",
    "\n",
    "# Invoke the conversational retrieval chain and extract only the answer\n",
    "response = conversational_retrieval_chain.invoke({\"messages\": demo_ephemeral_chat_history.messages})\n",
    "print(response['answer'])"
   ]
  },
  {
   "cell_type": "code",
   "execution_count": null,
   "id": "f4d2b9ef-14ed-4c8f-8b20-5c0cbab6d313",
   "metadata": {},
   "outputs": [],
   "source": []
  }
 ],
 "metadata": {
  "kernelspec": {
   "display_name": "Python 3 (ipykernel)",
   "language": "python",
   "name": "python3"
  },
  "language_info": {
   "codemirror_mode": {
    "name": "ipython",
    "version": 3
   },
   "file_extension": ".py",
   "mimetype": "text/x-python",
   "name": "python",
   "nbconvert_exporter": "python",
   "pygments_lexer": "ipython3",
   "version": "3.11.7"
  }
 },
 "nbformat": 4,
 "nbformat_minor": 5
}

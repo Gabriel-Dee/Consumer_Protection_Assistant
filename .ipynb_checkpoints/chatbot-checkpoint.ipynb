{
 "cells": [
  {
   "cell_type": "markdown",
   "id": "7f4ce286-4b5d-42ab-881c-162e0ebd0543",
   "metadata": {},
   "source": [
    "# Project Title:\n",
    "**AI Guardian: An AI-Powered Consumer Protection Assistant**\n",
    "\n",
    "## Project Overview:\n",
    "The AI Guardian project aims to develop an AI-powered assistant designed to help consumers navigate the digital marketplace safely and confidently. The assistant will focus on providing reliable information, detecting scams and misinformation, and offering support for consumer rights and redress mechanisms.\n",
    "\n",
    "## Key Features:\n",
    "1. **Trustworthy Information Source**:\n",
    "   - **Verified Answers**: Use natural language processing (NLP) to provide consumers with verified and citation-backed answers to their queries.\n",
    "   - **Bias Detection**: Implement algorithms to detect and mitigate regional or cultural biases in information provided.\n",
    "\n",
    "2. **Scam and Misinformation Detection**:\n",
    "   - **Real-time Scam Alerts**: Use machine learning to identify and alert users about potential scams in real-time, whether in emails, advertisements, or online shopping platforms.\n",
    "   - **Misinformation Filtering**: Analyze content from various sources and flag misinformation, providing users with accurate and verified alternatives.\n",
    "\n",
    "3. **Consumer Rights Education**:\n",
    "   - **Interactive Learning Modules**: Offer interactive and engaging modules to educate consumers about their rights, especially in relation to AI and digital services.\n",
    "   - **Guided Redress Mechanisms**: Provide step-by-step guidance on how consumers can seek redress for issues with AI technologies or digital services.\n",
    "\n",
    "4. **Personalized Recommendations and Alerts**:\n",
    "   - **Custom Alerts**: Based on user preferences and past behavior, the assistant can offer personalized alerts about new scams or critical updates in consumer protection laws.\n",
    "   - **Safe Shopping Recommendations**: Recommend safe and reliable online marketplaces and vendors based on AI analysis of consumer reviews and ratings."
   ]
  },
  {
   "cell_type": "markdown",
   "id": "545f1f0a-0a15-4d8d-b16a-27fea4593b8d",
   "metadata": {},
   "source": [
    "## Import Libraries"
   ]
  },
  {
   "cell_type": "code",
   "execution_count": 1,
   "id": "ca5a0ddf-5c1c-4635-b3f4-97b784cc7a31",
   "metadata": {},
   "outputs": [],
   "source": [
    "import os \n",
    "import dotenv\n",
    "from langchain_openai import ChatOpenAI\n",
    "from langchain_groq import ChatGroq\n",
    "from langchain_core.messages import HumanMessage\n",
    "from langchain_core.prompts import ChatPromptTemplate\n",
    "from langchain_core.messages import AIMessage\n",
    "from langchain_core.prompts import ChatPromptTemplate, MessagesPlaceholder\n",
    "from langchain.memory import ChatMessageHistory\n",
    "from langchain_community.document_loaders import WebBaseLoader\n",
    "from langchain_text_splitters import RecursiveCharacterTextSplitter\n",
    "from langchain_chroma import Chroma\n",
    "from langchain_openai import OpenAIEmbeddings\n",
    "from langchain_community.embeddings import OllamaEmbeddings\n",
    "from langchain.chains.combine_documents import create_stuff_documents_chain\n",
    "from langchain.memory import ChatMessageHistory\n",
    "from typing import Dict\n",
    "from langchain_core.runnables import RunnablePassthrough\n",
    "from langchain_core.output_parsers import StrOutputParser\n",
    "from langchain_core.runnables import RunnableBranch"
   ]
  },
  {
   "cell_type": "markdown",
   "id": "750f2387-f84c-4aa5-b1f1-39ecb4b4b57b",
   "metadata": {},
   "source": [
    "## Load API KEYS"
   ]
  },
  {
   "cell_type": "code",
   "execution_count": 2,
   "id": "e4006b9b-626c-45e9-aab9-fca44afcb222",
   "metadata": {},
   "outputs": [],
   "source": [
    "dotenv.load_dotenv()\n",
    "GROQ_API_KEY = os.getenv('GROQ_API_KEY')\n",
    "OPENAI_API_KEY = os.getenv('OPENAI_API_KEY')"
   ]
  },
  {
   "cell_type": "markdown",
   "id": "2ffa97c8-1d53-4ed0-8027-861ab3c0a43f",
   "metadata": {},
   "source": [
    "## Initializing Chat Model\n",
    "Let's initialize the chat model which will serve as the chatbot's brain:"
   ]
  },
  {
   "cell_type": "code",
   "execution_count": 3,
   "id": "b418a86a-6d76-41be-ae1d-17b49bb0cb34",
   "metadata": {},
   "outputs": [],
   "source": [
    "Model = 'llama3-8b-8192'\n",
    "\n",
    "chat = ChatGroq(temperature=0, groq_api_key=GROQ_API_KEY, model_name=Model)"
   ]
  },
  {
   "cell_type": "markdown",
   "id": "383ca7a6-ddb5-4d83-906f-5d882b44671d",
   "metadata": {},
   "source": [
    "## Invoking The Model\n",
    "If we invoke our chat model, the output is an AIMessage:"
   ]
  },
  {
   "cell_type": "code",
   "execution_count": 4,
   "id": "77274448-8549-4154-8e09-79995ab95a54",
   "metadata": {},
   "outputs": [
    {
     "data": {
      "text/plain": [
       "AIMessage(content='Large Language Models (LLMs) have revolutionized the field of natural language processing (NLP) by enabling applications such as language translation, text summarization, and chatbots. However, traditional LLMs often suffer from high latency, which can be a significant limitation in many real-world applications. Low latency LLMs, on the other hand, offer several advantages that make them crucial for various use cases. Here are some reasons why low latency LLMs are important:\\n\\n1. **Real-time processing**: Low latency LLMs enable real-time processing of user input, which is essential for applications like chatbots, virtual assistants, and live language translation. This allows for a more seamless and responsive user experience.\\n2. **Improved user engagement**: Fast response times can significantly improve user engagement and satisfaction. Low latency LLMs can process user input quickly, reducing the likelihood of user frustration and abandonment.\\n3. **Enhanced decision-making**: In applications like customer service or technical support, low latency LLMs can provide instant responses to user queries, enabling faster issue resolution and improved customer satisfaction.\\n4. **Increased efficiency**: Low latency LLMs can automate routine tasks, freeing up human agents to focus on more complex and high-value tasks. This can lead to increased efficiency and reduced operational costs.\\n5. **Competitive advantage**: In industries like finance, healthcare, or e-commerce, low latency LLMs can provide a competitive advantage by enabling faster and more accurate processing of user input, leading to improved customer experiences and increased loyalty.\\n6. **Scalability**: Low latency LLMs can be designed to scale horizontally, allowing them to handle a large volume of user requests without compromising performance. This makes them suitable for large-scale applications.\\n7. **Improved accuracy**: Low latency LLMs can leverage real-time feedback to improve their accuracy and adapt to changing user behavior, leading to better overall performance and more accurate responses.\\n8. **Enhanced security**: Low latency LLMs can be designed with security in mind, enabling real-time threat detection and response to potential security breaches.\\n9. **New use cases**: Low latency LLMs can enable new use cases that rely on real-time processing, such as:\\n\\t* Real-time language translation for international communication\\n\\t* Instant text summarization for news and research\\n\\t* Real-time sentiment analysis for customer feedback\\n10. **Future-proofing**: As the demand for real-time processing continues to grow, low latency LLMs can future-proof applications and ensure they remain competitive in the market.\\n\\nIn summary, low latency LLMs are crucial for applications that require real-time processing, improved user engagement, and enhanced decision-making. They offer a competitive advantage, improved accuracy, and scalability, making them an essential component of many industries and applications.', response_metadata={'token_usage': {'completion_time': 0.637, 'completion_tokens': 565, 'prompt_time': 0.008, 'prompt_tokens': 32, 'queue_time': None, 'total_time': 0.645, 'total_tokens': 597}, 'model_name': 'llama3-8b-8192', 'system_fingerprint': 'fp_af05557ca2', 'finish_reason': 'stop', 'logprobs': None}, id='run-5c33f453-4e5d-4657-bf94-c4a916e4ffec-0')"
      ]
     },
     "execution_count": 4,
     "metadata": {},
     "output_type": "execute_result"
    }
   ],
   "source": [
    "system = \"You are a helpful assistant.\"\n",
    "human = \"{text}\"\n",
    "prompt = ChatPromptTemplate.from_messages([(\"system\", system), (\"human\", human)])\n",
    "\n",
    "chain = prompt | chat\n",
    "chain.invoke({\"text\": \"Explain the importance of low latency LLMs.\"})"
   ]
  },
  {
   "cell_type": "code",
   "execution_count": 5,
   "id": "e51b6633-2326-4341-9319-99832ac481bf",
   "metadata": {
    "scrolled": true
   },
   "outputs": [
    {
     "data": {
      "text/plain": [
       "AIMessage(content='The translation of \"I love programming\" in French is:\\n\\nJ\\'adore le programmation.\\n\\nHere\\'s a breakdown of the translation:\\n\\n* \"I\" is translated to \"J\\'\" (the subject pronoun in French)\\n* \"love\" is translated to \"adore\" (which is a stronger form of \"aimer\", meaning \"to love\")\\n* \"programming\" is translated to \"le programmation\" (with the definite article \"le\" because \"programmation\" is a masculine noun)\\n\\nSo, \"J\\'adore le programmation\" is the correct translation of \"I love programming\" in French!', response_metadata={'token_usage': {'completion_time': 0.152, 'completion_tokens': 128, 'prompt_time': 0.006, 'prompt_tokens': 22, 'queue_time': None, 'total_time': 0.158, 'total_tokens': 150}, 'model_name': 'llama3-8b-8192', 'system_fingerprint': 'fp_c5f20b5bb1', 'finish_reason': 'stop', 'logprobs': None}, id='run-d0d8f457-0f33-4e6a-8345-32cddfee749a-0')"
      ]
     },
     "execution_count": 5,
     "metadata": {},
     "output_type": "execute_result"
    }
   ],
   "source": [
    "chat.invoke(\n",
    "    [\n",
    "        HumanMessage(\n",
    "            content=\"Translate this sentence from English to French: I love programming.\"\n",
    "        )\n",
    "    ]\n",
    ")"
   ]
  },
  {
   "cell_type": "markdown",
   "id": "c05fb277-6efc-43f2-b22b-b59a46db1094",
   "metadata": {},
   "source": [
    "## Model State\n",
    "The model on its own does not have any concept of state. For example, if you ask a followup question:"
   ]
  },
  {
   "cell_type": "code",
   "execution_count": 6,
   "id": "6a970fc3-02ae-4b7d-a7b2-ada03717e8c2",
   "metadata": {},
   "outputs": [
    {
     "data": {
      "text/plain": [
       "AIMessage(content=\"I apologize, but this conversation just started. I haven't said anything yet. I'm here to help answer your questions and provide information. What would you like to talk about?\", response_metadata={'token_usage': {'completion_time': 0.042, 'completion_tokens': 36, 'prompt_time': 0.005, 'prompt_tokens': 16, 'queue_time': None, 'total_time': 0.047, 'total_tokens': 52}, 'model_name': 'llama3-8b-8192', 'system_fingerprint': 'fp_a97cfe35ae', 'finish_reason': 'stop', 'logprobs': None}, id='run-753eab48-005c-4ebd-ab58-e19b8695e334-0')"
      ]
     },
     "execution_count": 6,
     "metadata": {},
     "output_type": "execute_result"
    }
   ],
   "source": [
    "chat.invoke([HumanMessage(content=\"What did you just say?\")])"
   ]
  },
  {
   "cell_type": "markdown",
   "id": "01d79d5c-5a8a-4fe4-8ef4-143c7cb63c04",
   "metadata": {},
   "source": [
    "We can see that it doesn't take the previous conversation turn into context, and cannot answer the question.\n",
    "\n",
    "To get around this, we need to pass the entire conversation history into the model. Let's see what happens when we do that:"
   ]
  },
  {
   "cell_type": "code",
   "execution_count": 7,
   "id": "94df4cc3-0303-4206-80c1-51c24fe53bc6",
   "metadata": {},
   "outputs": [
    {
     "data": {
      "text/plain": [
       "AIMessage(content='I translated the sentence \"I love programming\" from English to French. The translation is:\\n\\nJ\\'adore la programmation.\\n\\nHere\\'s a breakdown of the translation:\\n\\n* \"I\" is translated to \"J\\'\" (note the accent on the \"J\" to indicate the contraction)\\n* \"love\" is translated to \"adore\" (which means \"to love\" or \"to adore\")\\n* \"programming\" is translated to \"la programmation\" (using the definite article \"la\" to indicate that it\\'s a singular noun)\\n\\nSo, the entire sentence \"J\\'adore la programmation\" means \"I love programming\" in French!', response_metadata={'token_usage': {'completion_time': 0.149, 'completion_tokens': 133, 'prompt_time': 0.013, 'prompt_tokens': 46, 'queue_time': None, 'total_time': 0.162, 'total_tokens': 179}, 'model_name': 'llama3-8b-8192', 'system_fingerprint': 'fp_af05557ca2', 'finish_reason': 'stop', 'logprobs': None}, id='run-6e62c880-7601-41c6-8d5c-b26fc4864d97-0')"
      ]
     },
     "execution_count": 7,
     "metadata": {},
     "output_type": "execute_result"
    }
   ],
   "source": [
    "chat.invoke(\n",
    "    [\n",
    "        HumanMessage(\n",
    "            content=\"Translate this sentence from English to French: I love programming.\"\n",
    "        ),\n",
    "        AIMessage(content=\"J'adore la programmation.\"),\n",
    "        HumanMessage(content=\"What did you just say?\"),\n",
    "    ]\n",
    ")"
   ]
  },
  {
   "cell_type": "markdown",
   "id": "540ff1cf-be20-4cb5-9e9a-4e0bae4d5f94",
   "metadata": {},
   "source": [
    "And now we can see that we get a good response!\n",
    "\n",
    "This is the basic idea underpinning a chatbot's ability to interact conversationally."
   ]
  },
  {
   "cell_type": "markdown",
   "id": "956b4c81-c1e8-40fb-9bcf-b8c620f3be75",
   "metadata": {},
   "source": [
    "## Prompt templates\n",
    "Let's define a prompt template to make formatting a bit easier. We can create a chain by piping it into the model:"
   ]
  },
  {
   "cell_type": "code",
   "execution_count": 8,
   "id": "3bed58da-979e-45b0-9ea4-4fc2109f6dd6",
   "metadata": {},
   "outputs": [],
   "source": [
    "prompt = ChatPromptTemplate.from_messages(\n",
    "    [\n",
    "        (\n",
    "            \"system\",\n",
    "            \"You are a helpful assistant. Answer all questions to the best of your ability.\",\n",
    "        ),\n",
    "        MessagesPlaceholder(variable_name=\"messages\"),\n",
    "    ]\n",
    ")\n",
    "\n",
    "chain = prompt | chat"
   ]
  },
  {
   "cell_type": "markdown",
   "id": "2c2ff7af-6f3d-4818-a9b1-de6fd106f806",
   "metadata": {},
   "source": [
    "The MessagesPlaceholder above inserts chat messages passed into the chain's input as chat_history directly into the prompt. Then, we can invoke the chain like this:"
   ]
  },
  {
   "cell_type": "code",
   "execution_count": 9,
   "id": "010664b0-4e62-40ce-9d09-756e839df8ba",
   "metadata": {},
   "outputs": [
    {
     "data": {
      "text/plain": [
       "AIMessage(content='I translated the sentence \"I love programming\" from English to French. The French translation is \"J\\'adore la programmation\".', response_metadata={'token_usage': {'completion_time': 0.031, 'completion_tokens': 27, 'prompt_time': 0.039, 'prompt_tokens': 67, 'queue_time': None, 'total_time': 0.07, 'total_tokens': 94}, 'model_name': 'llama3-8b-8192', 'system_fingerprint': 'fp_179b0f92c9', 'finish_reason': 'stop', 'logprobs': None}, id='run-ce9630a5-dfd6-47ab-af4e-56e2c7825765-0')"
      ]
     },
     "execution_count": 9,
     "metadata": {},
     "output_type": "execute_result"
    }
   ],
   "source": [
    "chain.invoke(\n",
    "    {\n",
    "        \"messages\": [\n",
    "            HumanMessage(\n",
    "                content=\"Translate this sentence from English to French: I love programming.\"\n",
    "            ),\n",
    "            AIMessage(content=\"J'adore la programmation.\"),\n",
    "            HumanMessage(content=\"What did you just say?\"),\n",
    "        ],\n",
    "    }\n",
    ")"
   ]
  },
  {
   "cell_type": "markdown",
   "id": "1451537b-8e6e-4a9a-ae3b-93f1da177222",
   "metadata": {},
   "source": [
    "## Message history\n",
    "As a shortcut for managing the chat history, we can use a MessageHistory class, which is responsible for saving and loading chat messages. There are many built-in message history integrations that persist messages to a variety of databases, but for this quickstart we'll use a in-memory, demo message history called ChatMessageHistory."
   ]
  },
  {
   "cell_type": "code",
   "execution_count": 10,
   "id": "25239e2e-e1ad-4f9b-ad02-2d36ee225715",
   "metadata": {},
   "outputs": [
    {
     "data": {
      "text/plain": [
       "[HumanMessage(content='hi!'), AIMessage(content='whats up?')]"
      ]
     },
     "execution_count": 10,
     "metadata": {},
     "output_type": "execute_result"
    }
   ],
   "source": [
    "demo_ephemeral_chat_history = ChatMessageHistory()\n",
    "\n",
    "demo_ephemeral_chat_history.add_user_message(\"hi!\")\n",
    "\n",
    "demo_ephemeral_chat_history.add_ai_message(\"whats up?\")\n",
    "\n",
    "demo_ephemeral_chat_history.messages"
   ]
  },
  {
   "cell_type": "markdown",
   "id": "d00e1e0c-0330-48a5-8398-210fae25d94c",
   "metadata": {},
   "source": [
    "Once we do that, we can pass the stored messages directly into our chain as a parameter:"
   ]
  },
  {
   "cell_type": "code",
   "execution_count": 11,
   "id": "19e9657c-73a1-4a42-a46b-c44dfa35d1f0",
   "metadata": {},
   "outputs": [
    {
     "data": {
      "text/plain": [
       "AIMessage(content='The translation of the sentence \"I love programming\" from English to French is:\\n\\nJ\\'adore le programmation.\\n\\nLet me know if you need any further assistance!', response_metadata={'token_usage': {'completion_time': 0.04, 'completion_tokens': 34, 'prompt_time': 0.018, 'prompt_tokens': 59, 'queue_time': None, 'total_time': 0.057999999999999996, 'total_tokens': 93}, 'model_name': 'llama3-8b-8192', 'system_fingerprint': 'fp_c5f20b5bb1', 'finish_reason': 'stop', 'logprobs': None}, id='run-70ad0106-be43-4745-8a2e-88c8ed4c2e8c-0')"
      ]
     },
     "execution_count": 11,
     "metadata": {},
     "output_type": "execute_result"
    }
   ],
   "source": [
    "demo_ephemeral_chat_history.add_user_message(\n",
    "    \"Translate this sentence from English to French: I love programming.\"\n",
    ")\n",
    "\n",
    "response = chain.invoke({\"messages\": demo_ephemeral_chat_history.messages})\n",
    "\n",
    "response"
   ]
  },
  {
   "cell_type": "code",
   "execution_count": 12,
   "id": "30221b1b-3869-4c04-a19f-3bad5f6bc605",
   "metadata": {},
   "outputs": [
    {
     "data": {
      "text/plain": [
       "AIMessage(content='I translated the sentence \"I love programming\" from English to French. The French translation is \"J\\'adore le programmation\".', response_metadata={'token_usage': {'completion_time': 0.032, 'completion_tokens': 27, 'prompt_time': 0.027, 'prompt_tokens': 109, 'queue_time': None, 'total_time': 0.059, 'total_tokens': 136}, 'model_name': 'llama3-8b-8192', 'system_fingerprint': 'fp_c5f20b5bb1', 'finish_reason': 'stop', 'logprobs': None}, id='run-3444c414-c4f8-4e08-8643-1f9056db860d-0')"
      ]
     },
     "execution_count": 12,
     "metadata": {},
     "output_type": "execute_result"
    }
   ],
   "source": [
    "demo_ephemeral_chat_history.add_ai_message(response)\n",
    "\n",
    "demo_ephemeral_chat_history.add_user_message(\"What did you just say?\")\n",
    "\n",
    "chain.invoke({\"messages\": demo_ephemeral_chat_history.messages})"
   ]
  },
  {
   "cell_type": "markdown",
   "id": "5afdd4fb-5119-4d12-b976-1e53610e72b7",
   "metadata": {},
   "source": [
    "**And now we have a basic chatbot!**\n",
    "\n",
    "```While this chain can serve as a useful chatbot on its own with just the model's internal knowledge, it's often useful to introduce some form of retrieval-augmented generation, or RAG for short, over domain-specific knowledge to make our chatbot more focused. We'll cover this next.```"
   ]
  },
  {
   "cell_type": "markdown",
   "id": "75ed51f1-3b7e-414a-a95c-7d3a18faff97",
   "metadata": {},
   "source": [
    "## Retrievers\n",
    "We can set up and use a Retriever to pull domain-specific knowledge for our chatbot. To show this, let's expand the simple chatbot we created above to be able to answer questions about LangSmith.\n",
    "\n",
    "We'll use the **Consumer Day and related website** as source material and store it in a vectorstore for later retrieval. Note that this example will gloss over some of the specifics around parsing and storing a data source.\n",
    "\n",
    "To go Deeper - ```https://python.langchain.com/v0.1/docs/use_cases/question_answering/```"
   ]
  },
  {
   "cell_type": "code",
   "execution_count": 13,
   "id": "5d97d00d-11c1-43cc-af07-62ea054479c1",
   "metadata": {},
   "outputs": [],
   "source": [
    "loader = WebBaseLoader(\"https://unctad.org/system/files/official-document/ditccplpmisc2016d1_en.pdf\")\n",
    "data = loader.load()"
   ]
  },
  {
   "cell_type": "markdown",
   "id": "5e52551d-10a2-4315-83f1-1cb7fb690c19",
   "metadata": {},
   "source": [
    "Next, we split it into smaller chunks that the LLM's context window can handle and store it in a vector database:"
   ]
  },
  {
   "cell_type": "code",
   "execution_count": 14,
   "id": "72235d3b-9d1a-4385-b84d-67350121adcf",
   "metadata": {},
   "outputs": [],
   "source": [
    "text_splitter = RecursiveCharacterTextSplitter(chunk_size=500, chunk_overlap=0)\n",
    "all_splits = text_splitter.split_documents(data)"
   ]
  },
  {
   "cell_type": "markdown",
   "id": "46b8cc83-1c0b-4e24-a8be-6ead44f956ed",
   "metadata": {},
   "source": [
    "Then we embed and store those chunks in a vector database:"
   ]
  },
  {
   "cell_type": "code",
   "execution_count": 15,
   "id": "47194b38-88ba-4a83-85dd-a080baba6127",
   "metadata": {},
   "outputs": [],
   "source": [
    "vectorstore = Chroma.from_documents(documents=all_splits, embedding=OpenAIEmbeddings())"
   ]
  },
  {
   "cell_type": "markdown",
   "id": "26967f09-8c7c-4205-b74b-0d1111c328ba",
   "metadata": {},
   "source": [
    "And finally, let's create a retriever from our initialized vectorstore:"
   ]
  },
  {
   "cell_type": "code",
   "execution_count": 16,
   "id": "19de43bf-d9e3-4345-b813-97b98cc23daf",
   "metadata": {},
   "outputs": [
    {
     "data": {
      "text/plain": [
       "[Document(page_content='<rdf:li>United Nations Guidelines for Consumer Protection</rdf:li>\\n            </rdf:Bag>\\n         </dc:subject>\\n      </rdf:Description>\\n      <rdf:Description rdf:about=\"\"\\n            xmlns:pdf=\"http://ns.adobe.com/pdf/1.3/\">\\n         <pdf:Producer>Acrobat Distiller 15.0 (Windows)</pdf:Producer>\\n         <pdf:Trapped>False</pdf:Trapped>\\n         <pdf:Keywords>United Nations Guidelines for Consumer Protection</pdf:Keywords>\\n      </rdf:Description>\\n   </rdf:RDF>\\n</x:xmpmeta>', metadata={'source': 'https://unctad.org/system/files/official-document/ditccplpmisc2016d1_en.pdf'}),\n",
       " Document(page_content='<rdf:Bag>\\n               <rdf:li>United Nations Guidelines for Consumer Protection</rdf:li>\\n            </rdf:Bag>\\n         </dc:subject>\\n      </rdf:Description>\\n      <rdf:Description rdf:about=\"\"\\n            xmlns:pdf=\"http://ns.adobe.com/pdf/1.3/\">\\n         <pdf:Producer>Acrobat Distiller 15.0 (Windows)</pdf:Producer>\\n         <pdf:Trapped>False</pdf:Trapped>\\n         <pdf:Keywords>United Nations Guidelines for Consumer Protection</pdf:Keywords>\\n      </rdf:Description>', metadata={'source': 'https://unctad.org/system/files/official-document/ditccplpmisc2016d1_en.pdf'}),\n",
       " Document(page_content='<rdf:Description rdf:about=\"\"\\n            xmlns:dc=\"http://purl.org/dc/elements/1.1/\">\\n         <dc:format>application/pdf</dc:format>\\n         <dc:title>\\n            <rdf:Alt>\\n               <rdf:li xml:lang=\"x-default\">United Nations Guidelines for Consumer Protection</rdf:li>\\n            </rdf:Alt>\\n         </dc:title>\\n         <dc:creator>\\n            <rdf:Seq>\\n               <rdf:li>UNCTAD</rdf:li>\\n            </rdf:Seq>\\n         </dc:creator>\\n         <dc:subject>', metadata={'source': 'https://unctad.org/system/files/official-document/ditccplpmisc2016d1_en.pdf'}),\n",
       " Document(page_content='</rdf:Description>\\n      <rdf:Description rdf:about=\"\"\\n            xmlns:dc=\"http://purl.org/dc/elements/1.1/\">\\n         <dc:format>application/pdf</dc:format>\\n         <dc:title>\\n            <rdf:Alt>\\n               <rdf:li xml:lang=\"x-default\">United Nations Guidelines for Consumer Protection</rdf:li>\\n            </rdf:Alt>\\n         </dc:title>\\n         <dc:creator>\\n            <rdf:Seq/>\\n         </dc:creator>\\n         <dc:subject>\\n            <rdf:Bag>', metadata={'source': 'https://unctad.org/system/files/official-document/ditccplpmisc2016d1_en.pdf'})]"
      ]
     },
     "execution_count": 16,
     "metadata": {},
     "output_type": "execute_result"
    }
   ],
   "source": [
    "# k is the number of chunks to retrieve\n",
    "retriever = vectorstore.as_retriever(k=4)\n",
    "\n",
    "docs = retriever.invoke(\"Summarise the Guidelines for Consumer Protection\")\n",
    "\n",
    "docs"
   ]
  },
  {
   "cell_type": "markdown",
   "id": "fdccbf77-b3a8-4a28-a918-e2d3d86ec302",
   "metadata": {},
   "source": [
    "We can see that invoking the retriever above results in some parts of the UN guiedins for Consumer Protection document that contain information about testing that our chatbot can use as context when answering questions."
   ]
  },
  {
   "cell_type": "markdown",
   "id": "74f3664b-7972-4769-bd96-81d4718797fa",
   "metadata": {},
   "source": [
    "## Handling documents\n",
    "Let's modify our previous prompt to accept documents as context. We'll use a create_stuff_documents_chain helper function to \"stuff\" all of the input documents into the prompt, which also conveniently handles formatting. We use the ChatPromptTemplate.from_messages method to format the message input we want to pass to the model, including a MessagesPlaceholder where chat history messages will be directly injected:"
   ]
  },
  {
   "cell_type": "code",
   "execution_count": 17,
   "id": "98017020-5d73-4ae6-962f-bc1db50bbb78",
   "metadata": {},
   "outputs": [],
   "source": [
    "# chat = ChatOpenAI(model=\"gpt-3.5-turbo-1106\")\n",
    "\n",
    "question_answering_prompt = ChatPromptTemplate.from_messages(\n",
    "    [\n",
    "        (\n",
    "            \"system\",\n",
    "            \"Answer the user's questions based on the below context:\\n\\n{context}\",\n",
    "        ),\n",
    "        MessagesPlaceholder(variable_name=\"messages\"),\n",
    "    ]\n",
    ")\n",
    "\n",
    "document_chain = create_stuff_documents_chain(chat, question_answering_prompt)"
   ]
  },
  {
   "cell_type": "markdown",
   "id": "c43fe6ba-c060-4736-bd29-4ed0fa04dd9e",
   "metadata": {},
   "source": [
    "We can invoke this document_chain with the raw documents we retrieved above:"
   ]
  },
  {
   "cell_type": "code",
   "execution_count": 18,
   "id": "89f1ae71-3ce8-4382-b402-20e9ddd0761a",
   "metadata": {},
   "outputs": [
    {
     "data": {
      "text/plain": [
       "'Based on the provided context, the United Nations Guidelines for Consumer Protection are not explicitly stated. However, I can provide a general overview of the guidelines as they are typically outlined in international consumer protection frameworks.\\n\\nThe United Nations Guidelines for Consumer Protection aim to promote fair and transparent business practices, ensuring that consumers are protected from unfair or deceptive business practices. The guidelines typically cover areas such as:\\n\\n1. Information Disclosure: Businesses must provide clear and accurate information about products and services, including prices, terms, and conditions.\\n2. Unfair or Deceptive Practices: Businesses must not engage in unfair or deceptive practices, such as false advertising, bait-and-switch tactics, or misleading representations.\\n3. Consumer Rights: Consumers have the right to redress, compensation, and other remedies in case of harm or injury caused by a business.\\n4. Product Safety: Businesses must ensure that products are safe for consumers to use and that they comply with relevant safety standards.\\n5. Consumer Education: Governments and businesses must provide education and awareness programs to inform consumers about their rights and responsibilities.\\n6. Dispute Resolution: Mechanisms must be in place to resolve disputes between consumers and businesses in a fair and timely manner.\\n\\nThese guidelines aim to promote a fair and transparent business environment, protecting consumers from harm and promoting trust in the marketplace.'"
      ]
     },
     "execution_count": 18,
     "metadata": {},
     "output_type": "execute_result"
    }
   ],
   "source": [
    "demo_ephemeral_chat_history = ChatMessageHistory()\n",
    "\n",
    "demo_ephemeral_chat_history.add_user_message(\"Summarise the Guidelines for Consumer Protection\")\n",
    "\n",
    "document_chain.invoke(\n",
    "    {\n",
    "        \"messages\": demo_ephemeral_chat_history.messages,\n",
    "        \"context\": docs,\n",
    "    }\n",
    ")"
   ]
  },
  {
   "cell_type": "markdown",
   "id": "96f8876f-7c87-4e3b-a15d-015d2fd80c9b",
   "metadata": {},
   "source": [
    "Awesome! We see an answer synthesized from information in the input documents.\n",
    "\n",
    "## Creating a retrieval chain\n",
    "Next, let's integrate our retriever into the chain. Our retriever should retrieve information relevant to the last message we pass in from the user, so we extract it and use that as input to fetch relevant docs, which we add to the current chain as context. We pass context plus the previous messages into our document chain to generate a final answer.\n",
    "\n",
    "We also use the RunnablePassthrough.assign() method to pass intermediate steps through at each invocation. Here's what it looks like:"
   ]
  },
  {
   "cell_type": "code",
   "execution_count": 19,
   "id": "8f3358de-af2b-4c93-9b58-96df1ad5e85b",
   "metadata": {},
   "outputs": [],
   "source": [
    "def parse_retriever_input(params: Dict):\n",
    "    return params[\"messages\"][-1].content\n",
    "\n",
    "\n",
    "retrieval_chain = RunnablePassthrough.assign(\n",
    "    context=parse_retriever_input | retriever,\n",
    ").assign(\n",
    "    answer=document_chain,\n",
    ")"
   ]
  },
  {
   "cell_type": "code",
   "execution_count": 20,
   "id": "beebdad6-4344-4b00-90e7-0dfe7f0faf83",
   "metadata": {},
   "outputs": [
    {
     "data": {
      "text/plain": [
       "{'messages': [HumanMessage(content='Summarise the Guidelines for Consumer Protection')],\n",
       " 'context': [Document(page_content='<rdf:li>United Nations Guidelines for Consumer Protection</rdf:li>\\n            </rdf:Bag>\\n         </dc:subject>\\n      </rdf:Description>\\n      <rdf:Description rdf:about=\"\"\\n            xmlns:pdf=\"http://ns.adobe.com/pdf/1.3/\">\\n         <pdf:Producer>Acrobat Distiller 15.0 (Windows)</pdf:Producer>\\n         <pdf:Trapped>False</pdf:Trapped>\\n         <pdf:Keywords>United Nations Guidelines for Consumer Protection</pdf:Keywords>\\n      </rdf:Description>\\n   </rdf:RDF>\\n</x:xmpmeta>', metadata={'source': 'https://unctad.org/system/files/official-document/ditccplpmisc2016d1_en.pdf'}),\n",
       "  Document(page_content='<rdf:Bag>\\n               <rdf:li>United Nations Guidelines for Consumer Protection</rdf:li>\\n            </rdf:Bag>\\n         </dc:subject>\\n      </rdf:Description>\\n      <rdf:Description rdf:about=\"\"\\n            xmlns:pdf=\"http://ns.adobe.com/pdf/1.3/\">\\n         <pdf:Producer>Acrobat Distiller 15.0 (Windows)</pdf:Producer>\\n         <pdf:Trapped>False</pdf:Trapped>\\n         <pdf:Keywords>United Nations Guidelines for Consumer Protection</pdf:Keywords>\\n      </rdf:Description>', metadata={'source': 'https://unctad.org/system/files/official-document/ditccplpmisc2016d1_en.pdf'}),\n",
       "  Document(page_content='<rdf:Description rdf:about=\"\"\\n            xmlns:dc=\"http://purl.org/dc/elements/1.1/\">\\n         <dc:format>application/pdf</dc:format>\\n         <dc:title>\\n            <rdf:Alt>\\n               <rdf:li xml:lang=\"x-default\">United Nations Guidelines for Consumer Protection</rdf:li>\\n            </rdf:Alt>\\n         </dc:title>\\n         <dc:creator>\\n            <rdf:Seq>\\n               <rdf:li>UNCTAD</rdf:li>\\n            </rdf:Seq>\\n         </dc:creator>\\n         <dc:subject>', metadata={'source': 'https://unctad.org/system/files/official-document/ditccplpmisc2016d1_en.pdf'}),\n",
       "  Document(page_content='</rdf:Description>\\n      <rdf:Description rdf:about=\"\"\\n            xmlns:dc=\"http://purl.org/dc/elements/1.1/\">\\n         <dc:format>application/pdf</dc:format>\\n         <dc:title>\\n            <rdf:Alt>\\n               <rdf:li xml:lang=\"x-default\">United Nations Guidelines for Consumer Protection</rdf:li>\\n            </rdf:Alt>\\n         </dc:title>\\n         <dc:creator>\\n            <rdf:Seq/>\\n         </dc:creator>\\n         <dc:subject>\\n            <rdf:Bag>', metadata={'source': 'https://unctad.org/system/files/official-document/ditccplpmisc2016d1_en.pdf'})],\n",
       " 'answer': 'Based on the provided context, the United Nations Guidelines for Consumer Protection are not explicitly stated. However, I can provide a general overview of the guidelines as they are typically outlined in international consumer protection frameworks.\\n\\nThe United Nations Guidelines for Consumer Protection aim to promote fair and transparent business practices, ensuring that consumers are protected from unfair or deceptive business practices. The guidelines typically cover areas such as:\\n\\n1. Information Disclosure: Businesses must provide clear and accurate information about products and services, including prices, terms, and conditions.\\n2. Unfair or Deceptive Practices: Businesses must not engage in unfair or deceptive practices, such as false advertising, bait-and-switch tactics, or misleading representations.\\n3. Consumer Rights: Consumers have the right to redress, compensation, and other remedies in case of harm or injury caused by a business.\\n4. Product Safety: Businesses must ensure that products are safe for consumers to use and that they comply with relevant safety standards.\\n5. Consumer Education: Governments and businesses must provide education and awareness programs to inform consumers about their rights and responsibilities.\\n6. Dispute Resolution: Mechanisms must be in place to resolve disputes between consumers and businesses in a fair and timely manner.\\n\\nThese guidelines aim to promote a fair and transparent business environment, protecting consumers from harm and promoting trust in the marketplace.'}"
      ]
     },
     "execution_count": 20,
     "metadata": {},
     "output_type": "execute_result"
    }
   ],
   "source": [
    "response = retrieval_chain.invoke(\n",
    "    {\n",
    "        \"messages\": demo_ephemeral_chat_history.messages,\n",
    "    }\n",
    ")\n",
    "\n",
    "response"
   ]
  },
  {
   "cell_type": "markdown",
   "id": "259f2a3f-93ea-4233-8c0e-2bac1e3da789",
   "metadata": {},
   "source": [
    "Nice! Our chatbot can now answer domain-specific questions in a conversational way.\n",
    "\n",
    "As an aside, if you don't want to return all the intermediate steps, you can define your retrieval chain like this using a pipe directly into the document chain instead of the final .assign() call:"
   ]
  },
  {
   "cell_type": "code",
   "execution_count": 21,
   "id": "c024f7b4-dae6-48de-b041-c59c54fa499f",
   "metadata": {},
   "outputs": [
    {
     "data": {
      "text/plain": [
       "'Based on the provided context, the United Nations Guidelines for Consumer Protection are not explicitly stated. However, I can provide a general overview of the guidelines as they are typically outlined in international consumer protection frameworks.\\n\\nThe United Nations Guidelines for Consumer Protection aim to promote fair and transparent business practices, ensuring that consumers are protected from unfair or deceptive business practices. The guidelines typically cover areas such as:\\n\\n1. Information Disclosure: Businesses must provide clear and accurate information about products and services, including prices, terms, and conditions.\\n2. Unfair or Deceptive Practices: Businesses must not engage in unfair or deceptive practices, such as false advertising, bait-and-switch tactics, or misleading representations.\\n3. Consumer Rights: Consumers have the right to redress, compensation, and other remedies in case of harm or injury caused by a business.\\n4. Product Safety: Businesses must ensure that products are safe for consumers to use and that they comply with relevant safety standards.\\n5. Consumer Education: Governments and businesses must provide education and awareness programs to inform consumers about their rights and responsibilities.\\n6. Dispute Resolution: Mechanisms must be in place to resolve disputes between consumers and businesses in a fair and timely manner.\\n\\nThese guidelines aim to promote a fair and transparent business environment, protecting consumers from harm and promoting trust in the marketplace.'"
      ]
     },
     "execution_count": 21,
     "metadata": {},
     "output_type": "execute_result"
    }
   ],
   "source": [
    "retrieval_chain_with_only_answer = (\n",
    "    RunnablePassthrough.assign(\n",
    "        context=parse_retriever_input | retriever,\n",
    "    )\n",
    "    | document_chain\n",
    ")\n",
    "\n",
    "retrieval_chain_with_only_answer.invoke(\n",
    "    {\n",
    "        \"messages\": demo_ephemeral_chat_history.messages,\n",
    "    },\n",
    ")"
   ]
  },
  {
   "cell_type": "markdown",
   "id": "86a3c39e-0dec-4aa6-8838-fbe3822b6696",
   "metadata": {},
   "source": [
    "## Query transformation\n",
    "There's one more optimization we'll cover here - in the above example, when we asked a followup question, tell me more about that!, you might notice that the retrieved docs don't directly include information about testing. This is because we're passing tell me more about that! verbatim as a query to the retriever. The output in the retrieval chain is still okay because the document chain retrieval chain can generate an answer based on the chat history, but we could be retrieving more rich and informative documents:"
   ]
  },
  {
   "cell_type": "code",
   "execution_count": 22,
   "id": "5f3664c8-c2f4-4ac7-b3ce-314b2e62d2e5",
   "metadata": {},
   "outputs": [
    {
     "data": {
      "text/plain": [
       "[Document(page_content='<rdf:li>United Nations Guidelines for Consumer Protection</rdf:li>\\n            </rdf:Bag>\\n         </dc:subject>\\n      </rdf:Description>\\n      <rdf:Description rdf:about=\"\"\\n            xmlns:pdf=\"http://ns.adobe.com/pdf/1.3/\">\\n         <pdf:Producer>Acrobat Distiller 15.0 (Windows)</pdf:Producer>\\n         <pdf:Trapped>False</pdf:Trapped>\\n         <pdf:Keywords>United Nations Guidelines for Consumer Protection</pdf:Keywords>\\n      </rdf:Description>\\n   </rdf:RDF>\\n</x:xmpmeta>', metadata={'source': 'https://unctad.org/system/files/official-document/ditccplpmisc2016d1_en.pdf'}),\n",
       " Document(page_content='<rdf:Bag>\\n               <rdf:li>United Nations Guidelines for Consumer Protection</rdf:li>\\n            </rdf:Bag>\\n         </dc:subject>\\n      </rdf:Description>\\n      <rdf:Description rdf:about=\"\"\\n            xmlns:pdf=\"http://ns.adobe.com/pdf/1.3/\">\\n         <pdf:Producer>Acrobat Distiller 15.0 (Windows)</pdf:Producer>\\n         <pdf:Trapped>False</pdf:Trapped>\\n         <pdf:Keywords>United Nations Guidelines for Consumer Protection</pdf:Keywords>\\n      </rdf:Description>', metadata={'source': 'https://unctad.org/system/files/official-document/ditccplpmisc2016d1_en.pdf'}),\n",
       " Document(page_content='<rdf:Description rdf:about=\"\"\\n            xmlns:dc=\"http://purl.org/dc/elements/1.1/\">\\n         <dc:format>application/pdf</dc:format>\\n         <dc:title>\\n            <rdf:Alt>\\n               <rdf:li xml:lang=\"x-default\">United Nations Guidelines for Consumer Protection</rdf:li>\\n            </rdf:Alt>\\n         </dc:title>\\n         <dc:creator>\\n            <rdf:Seq>\\n               <rdf:li>UNCTAD</rdf:li>\\n            </rdf:Seq>\\n         </dc:creator>\\n         <dc:subject>', metadata={'source': 'https://unctad.org/system/files/official-document/ditccplpmisc2016d1_en.pdf'}),\n",
       " Document(page_content='</rdf:Description>\\n      <rdf:Description rdf:about=\"\"\\n            xmlns:dc=\"http://purl.org/dc/elements/1.1/\">\\n         <dc:format>application/pdf</dc:format>\\n         <dc:title>\\n            <rdf:Alt>\\n               <rdf:li xml:lang=\"x-default\">United Nations Guidelines for Consumer Protection</rdf:li>\\n            </rdf:Alt>\\n         </dc:title>\\n         <dc:creator>\\n            <rdf:Seq/>\\n         </dc:creator>\\n         <dc:subject>\\n            <rdf:Bag>', metadata={'source': 'https://unctad.org/system/files/official-document/ditccplpmisc2016d1_en.pdf'})]"
      ]
     },
     "execution_count": 22,
     "metadata": {},
     "output_type": "execute_result"
    }
   ],
   "source": [
    "retriever.invoke(\"Summarise the Guidelines for Consumer Protection\")"
   ]
  },
  {
   "cell_type": "code",
   "execution_count": 23,
   "id": "210f50a5-c650-457f-a748-55b8386825ff",
   "metadata": {},
   "outputs": [
    {
     "data": {
      "text/plain": [
       "[Document(page_content=\"r�!a�'�-�N\\x1ck\", metadata={'source': 'https://unctad.org/system/files/official-document/ditccplpmisc2016d1_en.pdf'}),\n",
       " Document(page_content='h�\\x00�\\x02\\x02���������������������������������������������������������������������������������������������������������������������������������������������������������������������������������������������������������������������������Ŀ�þ�½�����������������������������������������������������������������������������������������������������������������������������������������������������������������������������������������������������������������������������������������\\x7f��\\x7f��~��}\\x7f�|~�|}�{}\\x7fz|\\x7fz{~yz}xz|wy{', metadata={'source': 'https://unctad.org/system/files/official-document/ditccplpmisc2016d1_en.pdf'}),\n",
       " Document(page_content='�a*�\\x0c�8�����\\x162m!�kAE�Ձ>!\\x1d]��UY��R�r�G��\\x1a�\\x7fmՉWL�C(�KԼ�y����K>�7��̞�t�O}�MЅߊ\\x02]', metadata={'source': 'https://unctad.org/system/files/official-document/ditccplpmisc2016d1_en.pdf'}),\n",
       " Document(page_content='��\\x1e��+', metadata={'source': 'https://unctad.org/system/files/official-document/ditccplpmisc2016d1_en.pdf'})]"
      ]
     },
     "execution_count": 23,
     "metadata": {},
     "output_type": "execute_result"
    }
   ],
   "source": [
    "retriever.invoke(\"tell me more about that!\")"
   ]
  },
  {
   "cell_type": "markdown",
   "id": "53283afd-ccb6-45be-9610-89ab29922ece",
   "metadata": {},
   "source": [
    "To get around this common problem, let's add a query transformation step that removes references from the input. We'll wrap our old retriever as follows:"
   ]
  },
  {
   "cell_type": "code",
   "execution_count": 24,
   "id": "531d971c-3e73-48de-b4df-6cd1e7fec50b",
   "metadata": {},
   "outputs": [],
   "source": [
    "# We need a prompt that we can pass into an LLM to generate a transformed search query\n",
    "\n",
    "# chat = ChatOpenAI(model=\"gpt-3.5-turbo-1106\", temperature=0.2)\n",
    "\n",
    "query_transform_prompt = ChatPromptTemplate.from_messages(\n",
    "    [\n",
    "        MessagesPlaceholder(variable_name=\"messages\"),\n",
    "        (\n",
    "            \"user\",\n",
    "            \"Given the above conversation, generate a search query to look up in order to get information relevant to the conversation. Only respond with the query, nothing else.\",\n",
    "        ),\n",
    "    ]\n",
    ")\n",
    "\n",
    "query_transforming_retriever_chain = RunnableBranch(\n",
    "    (\n",
    "        lambda x: len(x.get(\"messages\", [])) == 1,\n",
    "        # If only one message, then we just pass that message's content to retriever\n",
    "        (lambda x: x[\"messages\"][-1].content) | retriever,\n",
    "    ),\n",
    "    # If messages, then we pass inputs to LLM chain to transform the query, then pass to retriever\n",
    "    query_transform_prompt | chat | StrOutputParser() | retriever,\n",
    ").with_config(run_name=\"chat_retriever_chain\")"
   ]
  },
  {
   "cell_type": "markdown",
   "id": "b191b63b-9024-436f-a161-92fb326a1a42",
   "metadata": {},
   "source": [
    "Now let's recreate our earlier chain with this new query_transforming_retriever_chain. Note that this new chain accepts a dict as input and parses a string to pass to the retriever, so we don't have to do additional parsing at the top level:"
   ]
  },
  {
   "cell_type": "code",
   "execution_count": 25,
   "id": "a198457f-8894-4303-aef7-cd8c4eeda933",
   "metadata": {},
   "outputs": [],
   "source": [
    "document_chain = create_stuff_documents_chain(chat, question_answering_prompt)\n",
    "\n",
    "conversational_retrieval_chain = RunnablePassthrough.assign(\n",
    "    context=query_transforming_retriever_chain,\n",
    ").assign(\n",
    "    answer=document_chain,\n",
    ")\n",
    "\n",
    "demo_ephemeral_chat_history = ChatMessageHistory()"
   ]
  },
  {
   "cell_type": "markdown",
   "id": "faef0ac2-ee56-4421-be47-58c2b995e2e6",
   "metadata": {},
   "source": [
    "And finally, let's invoke it!"
   ]
  },
  {
   "cell_type": "code",
   "execution_count": 26,
   "id": "b4d12b3e-466c-466f-9fcc-a3cd64c9a248",
   "metadata": {},
   "outputs": [
    {
     "data": {
      "text/plain": [
       "{'messages': [HumanMessage(content='Summarise the Guidelines for Consumer Protection'),\n",
       "  AIMessage(content='Based on the provided context, the United Nations Guidelines for Consumer Protection are not explicitly stated. However, I can provide a general overview of the guidelines as they are typically outlined in international consumer protection frameworks.\\n\\nThe United Nations Guidelines for Consumer Protection aim to promote fair and transparent business practices, ensuring that consumers are protected from unfair or deceptive business practices. The guidelines typically cover areas such as:\\n\\n1. Information Disclosure: Businesses must provide clear and accurate information about products and services, including prices, terms, and conditions.\\n2. Unfair or Deceptive Practices: Businesses must not engage in unfair or deceptive practices, such as false advertising, bait-and-switch tactics, or misleading representations.\\n3. Consumer Rights: Consumers have the right to redress, compensation, and other remedies in case of harm or injury caused by a business.\\n4. Product Safety: Businesses must ensure that products are safe for consumers to use and that they comply with relevant safety standards.\\n5. Consumer Education: Governments and businesses must provide education and awareness programs to inform consumers about their rights and responsibilities.\\n6. Dispute Resolution: Mechanisms must be in place to resolve disputes between consumers and businesses in a fair and timely manner.\\n\\nThese guidelines aim to promote a fair and transparent business environment, protecting consumers from harm and promoting trust in the marketplace.')],\n",
       " 'context': [Document(page_content='<rdf:li>United Nations Guidelines for Consumer Protection</rdf:li>\\n            </rdf:Bag>\\n         </dc:subject>\\n      </rdf:Description>\\n      <rdf:Description rdf:about=\"\"\\n            xmlns:pdf=\"http://ns.adobe.com/pdf/1.3/\">\\n         <pdf:Producer>Acrobat Distiller 15.0 (Windows)</pdf:Producer>\\n         <pdf:Trapped>False</pdf:Trapped>\\n         <pdf:Keywords>United Nations Guidelines for Consumer Protection</pdf:Keywords>\\n      </rdf:Description>\\n   </rdf:RDF>\\n</x:xmpmeta>', metadata={'source': 'https://unctad.org/system/files/official-document/ditccplpmisc2016d1_en.pdf'}),\n",
       "  Document(page_content='<rdf:Bag>\\n               <rdf:li>United Nations Guidelines for Consumer Protection</rdf:li>\\n            </rdf:Bag>\\n         </dc:subject>\\n      </rdf:Description>\\n      <rdf:Description rdf:about=\"\"\\n            xmlns:pdf=\"http://ns.adobe.com/pdf/1.3/\">\\n         <pdf:Producer>Acrobat Distiller 15.0 (Windows)</pdf:Producer>\\n         <pdf:Trapped>False</pdf:Trapped>\\n         <pdf:Keywords>United Nations Guidelines for Consumer Protection</pdf:Keywords>\\n      </rdf:Description>', metadata={'source': 'https://unctad.org/system/files/official-document/ditccplpmisc2016d1_en.pdf'}),\n",
       "  Document(page_content='<rdf:Description rdf:about=\"\"\\n            xmlns:dc=\"http://purl.org/dc/elements/1.1/\">\\n         <dc:format>application/pdf</dc:format>\\n         <dc:title>\\n            <rdf:Alt>\\n               <rdf:li xml:lang=\"x-default\">United Nations Guidelines for Consumer Protection</rdf:li>\\n            </rdf:Alt>\\n         </dc:title>\\n         <dc:creator>\\n            <rdf:Seq>\\n               <rdf:li>UNCTAD</rdf:li>\\n            </rdf:Seq>\\n         </dc:creator>\\n         <dc:subject>', metadata={'source': 'https://unctad.org/system/files/official-document/ditccplpmisc2016d1_en.pdf'}),\n",
       "  Document(page_content='</rdf:Description>\\n      <rdf:Description rdf:about=\"\"\\n            xmlns:dc=\"http://purl.org/dc/elements/1.1/\">\\n         <dc:format>application/pdf</dc:format>\\n         <dc:title>\\n            <rdf:Alt>\\n               <rdf:li xml:lang=\"x-default\">United Nations Guidelines for Consumer Protection</rdf:li>\\n            </rdf:Alt>\\n         </dc:title>\\n         <dc:creator>\\n            <rdf:Seq/>\\n         </dc:creator>\\n         <dc:subject>\\n            <rdf:Bag>', metadata={'source': 'https://unctad.org/system/files/official-document/ditccplpmisc2016d1_en.pdf'})],\n",
       " 'answer': 'Based on the provided context, the United Nations Guidelines for Consumer Protection are not explicitly stated. However, I can provide a general overview of the guidelines as they are typically outlined in international consumer protection frameworks.\\n\\nThe United Nations Guidelines for Consumer Protection aim to promote fair and transparent business practices, ensuring that consumers are protected from unfair or deceptive business practices. The guidelines typically cover areas such as:\\n\\n1. Information Disclosure: Businesses must provide clear and accurate information about products and services, including prices, terms, and conditions.\\n2. Unfair or Deceptive Practices: Businesses must not engage in unfair or deceptive practices, such as false advertising, bait-and-switch tactics, or misleading representations.\\n3. Consumer Rights: Consumers have the right to redress, compensation, and other remedies in case of harm or injury caused by a business.\\n4. Product Safety: Businesses must ensure that products are safe for consumers to use and that they comply with relevant safety standards.\\n5. Consumer Education: Governments and businesses must provide education and awareness programs to inform consumers about their rights and responsibilities.\\n6. Dispute Resolution: Mechanisms must be in place to resolve disputes between consumers and businesses in a fair and timely manner.\\n\\nThese guidelines aim to promote a fair and transparent business environment, protecting consumers from harm and promoting trust in the marketplace.'}"
      ]
     },
     "execution_count": 26,
     "metadata": {},
     "output_type": "execute_result"
    }
   ],
   "source": [
    "demo_ephemeral_chat_history.add_user_message(\"Summarise the Guidelines for Consumer Protection\")\n",
    "\n",
    "response = conversational_retrieval_chain.invoke(\n",
    "    {\"messages\": demo_ephemeral_chat_history.messages},\n",
    ")\n",
    "\n",
    "demo_ephemeral_chat_history.add_ai_message(response[\"answer\"])\n",
    "\n",
    "response "
   ]
  },
  {
   "cell_type": "code",
   "execution_count": 27,
   "id": "44686616-5fb3-4f9e-a9ce-b1c6d533b81c",
   "metadata": {},
   "outputs": [
    {
     "data": {
      "text/plain": [
       "{'messages': [HumanMessage(content='Summarise the Guidelines for Consumer Protection'),\n",
       "  AIMessage(content='Based on the provided context, the United Nations Guidelines for Consumer Protection are not explicitly stated. However, I can provide a general overview of the guidelines as they are typically outlined in international consumer protection frameworks.\\n\\nThe United Nations Guidelines for Consumer Protection aim to promote fair and transparent business practices, ensuring that consumers are protected from unfair or deceptive business practices. The guidelines typically cover areas such as:\\n\\n1. Information Disclosure: Businesses must provide clear and accurate information about products and services, including prices, terms, and conditions.\\n2. Unfair or Deceptive Practices: Businesses must not engage in unfair or deceptive practices, such as false advertising, bait-and-switch tactics, or misleading representations.\\n3. Consumer Rights: Consumers have the right to redress, compensation, and other remedies in case of harm or injury caused by a business.\\n4. Product Safety: Businesses must ensure that products are safe for consumers to use and that they comply with relevant safety standards.\\n5. Consumer Education: Governments and businesses must provide education and awareness programs to inform consumers about their rights and responsibilities.\\n6. Dispute Resolution: Mechanisms must be in place to resolve disputes between consumers and businesses in a fair and timely manner.\\n\\nThese guidelines aim to promote a fair and transparent business environment, protecting consumers from harm and promoting trust in the marketplace.'),\n",
       "  HumanMessage(content='tell me more about that!')],\n",
       " 'context': [Document(page_content='<rdf:li>United Nations Guidelines for Consumer Protection</rdf:li>\\n            </rdf:Bag>\\n         </dc:subject>\\n      </rdf:Description>\\n      <rdf:Description rdf:about=\"\"\\n            xmlns:pdf=\"http://ns.adobe.com/pdf/1.3/\">\\n         <pdf:Producer>Acrobat Distiller 15.0 (Windows)</pdf:Producer>\\n         <pdf:Trapped>False</pdf:Trapped>\\n         <pdf:Keywords>United Nations Guidelines for Consumer Protection</pdf:Keywords>\\n      </rdf:Description>\\n   </rdf:RDF>\\n</x:xmpmeta>', metadata={'source': 'https://unctad.org/system/files/official-document/ditccplpmisc2016d1_en.pdf'}),\n",
       "  Document(page_content='<rdf:Description rdf:about=\"\"\\n            xmlns:dc=\"http://purl.org/dc/elements/1.1/\">\\n         <dc:format>application/pdf</dc:format>\\n         <dc:title>\\n            <rdf:Alt>\\n               <rdf:li xml:lang=\"x-default\">United Nations Guidelines for Consumer Protection</rdf:li>\\n            </rdf:Alt>\\n         </dc:title>\\n         <dc:creator>\\n            <rdf:Seq>\\n               <rdf:li>UNCTAD</rdf:li>\\n            </rdf:Seq>\\n         </dc:creator>\\n         <dc:subject>', metadata={'source': 'https://unctad.org/system/files/official-document/ditccplpmisc2016d1_en.pdf'}),\n",
       "  Document(page_content='<rdf:Bag>\\n               <rdf:li>United Nations Guidelines for Consumer Protection</rdf:li>\\n            </rdf:Bag>\\n         </dc:subject>\\n      </rdf:Description>\\n      <rdf:Description rdf:about=\"\"\\n            xmlns:pdf=\"http://ns.adobe.com/pdf/1.3/\">\\n         <pdf:Producer>Acrobat Distiller 15.0 (Windows)</pdf:Producer>\\n         <pdf:Trapped>False</pdf:Trapped>\\n         <pdf:Keywords>United Nations Guidelines for Consumer Protection</pdf:Keywords>\\n      </rdf:Description>', metadata={'source': 'https://unctad.org/system/files/official-document/ditccplpmisc2016d1_en.pdf'}),\n",
       "  Document(page_content='</rdf:Description>\\n      <rdf:Description rdf:about=\"\"\\n            xmlns:dc=\"http://purl.org/dc/elements/1.1/\">\\n         <dc:format>application/pdf</dc:format>\\n         <dc:title>\\n            <rdf:Alt>\\n               <rdf:li xml:lang=\"x-default\">United Nations Guidelines for Consumer Protection</rdf:li>\\n            </rdf:Alt>\\n         </dc:title>\\n         <dc:creator>\\n            <rdf:Seq/>\\n         </dc:creator>\\n         <dc:subject>\\n            <rdf:Bag>', metadata={'source': 'https://unctad.org/system/files/official-document/ditccplpmisc2016d1_en.pdf'})],\n",
       " 'answer': \"The United Nations Guidelines for Consumer Protection are a set of principles and recommendations aimed at promoting fair and transparent business practices, ensuring that consumers are protected from unfair or deceptive business practices. The guidelines are not exhaustive, but they cover a range of areas that are critical to consumer protection.\\n\\nHere are some additional details on each of the areas I mentioned earlier:\\n\\n1. Information Disclosure:\\n\\t* Businesses must provide clear and accurate information about products and services, including prices, terms, and conditions.\\n\\t* This includes providing information in a clear and concise manner, avoiding ambiguity or confusion.\\n2. Unfair or Deceptive Practices:\\n\\t* Businesses must not engage in unfair or deceptive practices, such as:\\n\\t\\t+ False or misleading advertising\\n\\t\\t+ Bait-and-switch tactics\\n\\t\\t+ Misrepresenting the quality, features, or benefits of a product or service\\n\\t\\t+ Concealing or omitting material information\\n3. Consumer Rights:\\n\\t* Consumers have the right to:\\n\\t\\t+ Redress: compensation or other remedies in case of harm or injury caused by a business\\n\\t\\t+ Information: access to information about products and services\\n\\t\\t+ Choice: the ability to make informed choices about products and services\\n\\t\\t+ Redress: the ability to seek redress in case of harm or injury\\n4. Product Safety:\\n\\t* Businesses must ensure that products are safe for consumers to use and that they comply with relevant safety standards.\\n\\t* This includes testing and certifying products, as well as providing clear instructions for use and maintenance.\\n5. Consumer Education:\\n\\t* Governments and businesses must provide education and awareness programs to inform consumers about their rights and responsibilities.\\n\\t* This includes providing information on consumer protection laws and regulations, as well as promoting consumer literacy and financial literacy.\\n6. Dispute Resolution:\\n\\t* Mechanisms must be in place to resolve disputes between consumers and businesses in a fair and timely manner.\\n\\t* This includes providing access to independent dispute resolution services, such as mediation or arbitration.\\n\\nThese guidelines aim to promote a fair and transparent business environment, protecting consumers from harm and promoting trust in the marketplace. By promoting fair and transparent business practices, consumers can make informed choices and have confidence in the products and services they purchase.\\n\\nIt's worth noting that the specific guidelines and regulations may vary depending on the country or region. However, the principles outlined above provide a general framework for promoting consumer protection and promoting fair and transparent business practices.\"}"
      ]
     },
     "execution_count": 27,
     "metadata": {},
     "output_type": "execute_result"
    }
   ],
   "source": [
    "demo_ephemeral_chat_history.add_user_message(\"tell me more about that!\")\n",
    "\n",
    "conversational_retrieval_chain.invoke(\n",
    "    {\"messages\": demo_ephemeral_chat_history.messages}\n",
    ")"
   ]
  },
  {
   "cell_type": "markdown",
   "id": "721a4450-f73a-4b87-a5c6-009734b8cb5f",
   "metadata": {},
   "source": [
    "And we now have a chatbot capable of conversational retrieval!"
   ]
  },
  {
   "cell_type": "markdown",
   "id": "0a3f17c8-9c80-4a1c-990e-6b8adc13d5ac",
   "metadata": {},
   "source": [
    "## Next steps\n",
    "Next is to know how to build a conversational chatbot that can integrate past messages and domain-specific knowledge into its generations. There are  other optimizations we can make around this:\n",
    "\n",
    "- **Memory management:** This includes a guide on automatically updating chat history, as well as trimming, summarizing, or otherwise modifying long conversations to keep your bot focused.\n",
    "- **Retrieval:** A deeper dive into using different types of retrieval with the chatbot\n",
    "- **Tool usage:** How to allows the chatbot to use tools that interact with other APIs and systems."
   ]
  },
  {
   "cell_type": "code",
   "execution_count": null,
   "id": "9e6112e4-a3da-4295-8e45-b32706c1d5c8",
   "metadata": {},
   "outputs": [],
   "source": []
  }
 ],
 "metadata": {
  "kernelspec": {
   "display_name": "Python 3 (ipykernel)",
   "language": "python",
   "name": "python3"
  },
  "language_info": {
   "codemirror_mode": {
    "name": "ipython",
    "version": 3
   },
   "file_extension": ".py",
   "mimetype": "text/x-python",
   "name": "python",
   "nbconvert_exporter": "python",
   "pygments_lexer": "ipython3",
   "version": "3.11.7"
  }
 },
 "nbformat": 4,
 "nbformat_minor": 5
}
